{
 "cells": [
  {
   "cell_type": "markdown",
   "id": "76da055b",
   "metadata": {},
   "source": [
    "# Data exploration of input videos"
   ]
  },
  {
   "cell_type": "code",
   "execution_count": 8,
   "id": "63f6b730",
   "metadata": {},
   "outputs": [
    {
     "name": "stdout",
     "output_type": "stream",
     "text": [
      "Input #0, mov,mp4,m4a,3gp,3g2,mj2, from 'input_files/Cosmos_War_of_the_Planets.mp4':\r\n",
      "  Metadata:\r\n",
      "    major_brand     : mp42\r\n",
      "    minor_version   : 0\r\n",
      "    compatible_brands: mp42mp41\r\n",
      "    creation_time   : 2021-08-02T19:15:48.000000Z\r\n",
      "  Duration: 00:00:20.05, start: 0.000000, bitrate: 3309 kb/s\r\n",
      "  Stream #0:0[0x1](eng): Video: h264 (Main) (avc1 / 0x31637661), yuv420p(progressive), 628x354 [SAR 1:1 DAR 314:177], 2989 kb/s, 29.97 fps, 29.97 tbr, 30k tbn (default)\r\n",
      "    Metadata:\r\n",
      "      creation_time   : 2021-08-02T19:15:48.000000Z\r\n",
      "      handler_name    : ?Mainconcept Video Media Handler\r\n",
      "      vendor_id       : [0][0][0][0]\r\n",
      "      encoder         : AVC Coding\r\n",
      "  Stream #0:1[0x2](eng): Audio: aac (LC) (mp4a / 0x6134706D), 48000 Hz, stereo, fltp, 317 kb/s (default)\r\n",
      "    Metadata:\r\n",
      "      creation_time   : 2021-08-02T19:15:48.000000Z\r\n",
      "      handler_name    : #Mainconcept MP4 Sound Media Handler\r\n",
      "      vendor_id       : [0][0][0][0]\r\n"
     ]
    }
   ],
   "source": [
    "!ffprobe -hide_banner input_files/Cosmos_War_of_the_Planets.mp4"
   ]
  },
  {
   "cell_type": "code",
   "execution_count": 9,
   "id": "50884fd9",
   "metadata": {},
   "outputs": [
    {
     "data": {
      "text/html": [
       "<video src=\"input_files/Cosmos_War_of_the_Planets.mp4\" controls  >\n",
       "      Your browser does not support the <code>video</code> element.\n",
       "    </video>"
      ],
      "text/plain": [
       "<IPython.core.display.Video object>"
      ]
     },
     "execution_count": 9,
     "metadata": {},
     "output_type": "execute_result"
    }
   ],
   "source": [
    "from IPython.display import Video\n",
    "Video(\"input_files/Cosmos_War_of_the_Planets.mp4\")"
   ]
  },
  {
   "cell_type": "markdown",
   "id": "293a1ac2",
   "metadata": {},
   "source": [
    "# Video analysis and report generation "
   ]
  },
  {
   "cell_type": "code",
   "execution_count": 157,
   "id": "2c4ccfe5",
   "metadata": {},
   "outputs": [],
   "source": [
    "EXPECTED_FORMAT = {\n",
    "    \"container\": \"mp42\",\n",
    "    \"video_codec\": \"h264\",\n",
    "    \"audio_codec\": \"aac\",\n",
    "    \"frame_rate\": 25,\n",
    "    \"aspect_ratio\": \"16:9\",\n",
    "    \"resolution_width\": 640,\n",
    "    \"resolution_height\": 360, \n",
    "    \"video_br_min_mbs\": 2,\n",
    "    \"video_br_max_mbs\": 5, \n",
    "    \"audio_br_max_kbs\": 256,\n",
    "    \"audio_channels\": 2\n",
    "}"
   ]
  },
  {
   "cell_type": "code",
   "execution_count": 166,
   "id": "4299a034",
   "metadata": {},
   "outputs": [],
   "source": [
    "VIDEO_FILENAME = \"input_files/Cosmos_War_of_the_Planets.mp4\"\n",
    "VIDEO_FILENAME = \"input_files/Last_man_on_earth_1964.mov\"\n",
    "VIDEO_FILENAME = \"input_files/The_Gun_and_the_Pulpit.avi\"\n",
    "VIDEO_FILENAME = \"input_files/The_Hill_Gang_Rides_Again.mp4\"\n",
    "VIDEO_FILENAME = \"input_files/Voyage_to_the_Planet_of_Prehistoric_Women.mp4\""
   ]
  },
  {
   "cell_type": "markdown",
   "id": "e2517f27",
   "metadata": {},
   "source": [
    "Function that runs ffprobe command inside python and returns its output inspired by: https://stackoverflow.com/a/9896732"
   ]
  },
  {
   "cell_type": "code",
   "execution_count": 167,
   "id": "43e1e0e2",
   "metadata": {},
   "outputs": [
    {
     "data": {
      "text/plain": [
       "[('video_codec', 'hevc'),\n",
       " ('audio_codec', 'mp3'),\n",
       " ('frame_rate', 29.97002997002997),\n",
       " ('video_br_mbs', 8.038857),\n",
       " ('audio_br_kbs', 320.0)]"
      ]
     },
     "execution_count": 167,
     "metadata": {},
     "output_type": "execute_result"
    }
   ],
   "source": [
    "import os, sys, subprocess, shlex, re\n",
    "import json\n",
    "from subprocess import call\n",
    "from fractions import Fraction\n",
    "\n",
    "def probe_file(filename):\n",
    "    cmnd = ['ffprobe', \"-print_format\", \"json\", \"-show_streams\", '-show_format', '-pretty', '-loglevel', 'quiet', filename]\n",
    "    p = subprocess.Popen(cmnd, stdout=subprocess.PIPE, stderr=subprocess.PIPE)\n",
    "    out, err =  p.communicate()\n",
    "    if err:\n",
    "        print (\"========= error ========\")\n",
    "        print(err)\n",
    "        raise Exception(err)\n",
    "    return json.loads(out)\n",
    "\n",
    "def calc_ar(w, h):\n",
    "    fr = Fraction(w,h)\n",
    "    num = fr.numerator\n",
    "    denom = fr.denominator\n",
    "    return f\"{num}:{denom}\"\n",
    "\n",
    "def parse_probe(probe_r):\n",
    "    # TODO: EXTRACT NEEDED INFO FROM FFPROBE OUTPUT HERE\n",
    "    r = {}\n",
    "    video_info = extract_stream_info(result, \"video\")\n",
    "    audio_info = extract_stream_info(result, \"audio\")\n",
    "    r[\"container\"] = probe_r[\"format\"][\"tags\"][\"major_brand\"] if \"tags\" in probe_r[\"format\"] else probe_r[\"format\"][\"format_name\"]\n",
    "    r[\"video_codec\"] = video_info[\"codec_name\"]\n",
    "    r[\"audio_codec\"] = audio_info[\"codec_name\"]\n",
    "    if \"/\" in video_info[\"avg_frame_rate\"]:\n",
    "        num, denom = video_info[\"avg_frame_rate\"].split(\"/\")\n",
    "        fr = int(num) / int(denom)\n",
    "    else:\n",
    "        fr = int(video_info[\"avg_frame_rate\"])\n",
    "    r[\"frame_rate\"] = fr\n",
    "    \n",
    "    r[\"aspect_ratio\"] = video_info[\"display_aspect_ratio\"] if \"display_aspect_ratio\" in video_info else calc_ar(video_info[\"width\"], video_info[\"height\"])\n",
    "    r[\"resolution_width\"] = video_info[\"width\"]\n",
    "    r[\"resolution_height\"] = video_info[\"height\"]\n",
    "    r[\"video_br_mbs\"] = video_info[\"bit_rate\"]\n",
    "    r[\"audio_br_kbs\"] = audio_info[\"bit_rate\"]\n",
    "    \n",
    "    r[\"audio_channels\"]= audio_info[\"channels\"]\n",
    "    return r\n",
    "\n",
    "def compare_attrs(video_format, expected_format):\n",
    "    problematic_fields = []\n",
    "    #FIXME video_format[\"container\"] is the codec not the container. how do I get the container?\n",
    "    if(video_format[\"container\"] != expected_format[\"container\"]):\n",
    "        problematic_fields.append((\"container\", video_format[\"container\"]))\n",
    "    if(video_format[\"video_codec\"] != expected_format[\"video_codec\"]):\n",
    "        problematic_fields.append((\"video_codec\", video_format[\"video_codec\"]))\n",
    "    if(video_format[\"audio_codec\"] != expected_format[\"audio_codec\"]):\n",
    "        problematic_fields.append((\"audio_codec\", video_format[\"audio_codec\"]))\n",
    "    if(video_format[\"frame_rate\"] != expected_format[\"frame_rate\"]):\n",
    "        problematic_fields.append((\"frame_rate\", video_format[\"frame_rate\"]))\n",
    "    if(video_format[\"aspect_ratio\"] != expected_format[\"aspect_ratio\"]):\n",
    "        problematic_fields.append((\"aspect_ratio\", video_format[\"aspect_ratio\"]))\n",
    "    if(video_format[\"resolution_width\"] != expected_format[\"resolution_width\"]):\n",
    "        problematic_fields.append((\"resolution_width\", video_format[\"resolution_width\"]))\n",
    "    if(video_format[\"resolution_height\"] != expected_format[\"resolution_height\"]):\n",
    "        problematic_fields.append((\"resolution_height\", video_format[\"resolution_height\"]))\n",
    "    video_br_min_mbs = expected_format[\"video_br_min_mbs\"]\n",
    "    video_br_max_mbs = expected_format[\"video_br_max_mbs\"]\n",
    "    video_br_mbs = float(video_format[\"video_br_mbs\"].split()[0])\n",
    "    if(video_br_mbs < video_br_min_mbs):\n",
    "        problematic_fields.append((\"video_br_mbs\", video_br_mbs))\n",
    "    if(video_br_mbs > video_br_max_mbs):\n",
    "        problematic_fields.append((\"video_br_mbs\", video_br_mbs))\n",
    "    audio_br_kbs = float(video_format[\"audio_br_kbs\"].split()[0])\n",
    "    if(audio_br_kbs > expected_format[\"audio_br_max_kbs\"]):\n",
    "        problematic_fields.append((\"audio_br_kbs\", audio_br_kbs))\n",
    "    if(video_format[\"audio_channels\"] != expected_format[\"audio_channels\"]):\n",
    "        problematic_fields.append((\"audio_channels\", video_format[\"audio_channels\"]))\n",
    "    return problematic_fields\n",
    "    \n",
    "def extract_stream_info(result, codec_type):\n",
    "    for stream in result[\"streams\"]:\n",
    "        if(stream[\"codec_type\"] == codec_type):\n",
    "            return stream\n",
    "    return None\n",
    "    \n",
    "    \n",
    "result = probe_file(VIDEO_FILENAME)\n",
    "video_format = parse_probe(result)\n",
    "misssing_attrs = compare_attrs(video_format, EXPECTED_FORMAT)\n",
    "misssing_attrs"
   ]
  },
  {
   "cell_type": "code",
   "execution_count": 139,
   "id": "03cbb62f",
   "metadata": {},
   "outputs": [
    {
     "data": {
      "text/plain": [
       "{'programs': [],\n",
       " 'streams': [{'index': 0,\n",
       "   'codec_name': 'rawvideo',\n",
       "   'codec_long_name': 'raw video',\n",
       "   'codec_type': 'video',\n",
       "   'codec_tag_string': 'IYUV',\n",
       "   'codec_tag': '0x56555949',\n",
       "   'width': 720,\n",
       "   'height': 404,\n",
       "   'coded_width': 720,\n",
       "   'coded_height': 404,\n",
       "   'closed_captions': 0,\n",
       "   'film_grain': 0,\n",
       "   'has_b_frames': 0,\n",
       "   'pix_fmt': 'yuv420p',\n",
       "   'level': -99,\n",
       "   'refs': 1,\n",
       "   'r_frame_rate': '25/1',\n",
       "   'avg_frame_rate': '25/1',\n",
       "   'time_base': '1/25',\n",
       "   'start_pts': 0,\n",
       "   'start_time': '0:00:00.000000',\n",
       "   'duration_ts': 500,\n",
       "   'duration': '0:00:20.000000',\n",
       "   'bit_rate': '87.438878 Mbit/s',\n",
       "   'nb_frames': '500',\n",
       "   'disposition': {'default': 0,\n",
       "    'dub': 0,\n",
       "    'original': 0,\n",
       "    'comment': 0,\n",
       "    'lyrics': 0,\n",
       "    'karaoke': 0,\n",
       "    'forced': 0,\n",
       "    'hearing_impaired': 0,\n",
       "    'visual_impaired': 0,\n",
       "    'clean_effects': 0,\n",
       "    'attached_pic': 0,\n",
       "    'timed_thumbnails': 0,\n",
       "    'captions': 0,\n",
       "    'descriptions': 0,\n",
       "    'metadata': 0,\n",
       "    'dependent': 0,\n",
       "    'still_image': 0}},\n",
       "  {'index': 1,\n",
       "   'codec_name': 'pcm_s16le',\n",
       "   'codec_long_name': 'PCM signed 16-bit little-endian',\n",
       "   'codec_type': 'audio',\n",
       "   'codec_tag_string': '[1][0][0][0]',\n",
       "   'codec_tag': '0x0001',\n",
       "   'sample_fmt': 's16',\n",
       "   'sample_rate': '48 KHz',\n",
       "   'channels': 2,\n",
       "   'bits_per_sample': 16,\n",
       "   'r_frame_rate': '0/0',\n",
       "   'avg_frame_rate': '0/0',\n",
       "   'time_base': '1/48000',\n",
       "   'start_pts': 0,\n",
       "   'start_time': '0:00:00.000000',\n",
       "   'bit_rate': '1.536000 Mbit/s',\n",
       "   'nb_frames': '960000',\n",
       "   'disposition': {'default': 0,\n",
       "    'dub': 0,\n",
       "    'original': 0,\n",
       "    'comment': 0,\n",
       "    'lyrics': 0,\n",
       "    'karaoke': 0,\n",
       "    'forced': 0,\n",
       "    'hearing_impaired': 0,\n",
       "    'visual_impaired': 0,\n",
       "    'clean_effects': 0,\n",
       "    'attached_pic': 0,\n",
       "    'timed_thumbnails': 0,\n",
       "    'captions': 0,\n",
       "    'descriptions': 0,\n",
       "    'metadata': 0,\n",
       "    'dependent': 0,\n",
       "    'still_image': 0}}],\n",
       " 'format': {'filename': 'input_files/The_Gun_and_the_Pulpit.avi',\n",
       "  'nb_streams': 2,\n",
       "  'nb_programs': 0,\n",
       "  'format_name': 'avi',\n",
       "  'format_long_name': 'AVI (Audio Video Interleaved)',\n",
       "  'start_time': '0:00:00.000000',\n",
       "  'duration': '0:00:20.000000',\n",
       "  'size': '211.737331 Mibyte',\n",
       "  'bit_rate': '88.809073 Mbit/s',\n",
       "  'probe_score': 100}}"
      ]
     },
     "execution_count": 139,
     "metadata": {},
     "output_type": "execute_result"
    }
   ],
   "source": [
    "result"
   ]
  },
  {
   "cell_type": "code",
   "execution_count": 60,
   "id": "e11c3b28",
   "metadata": {},
   "outputs": [],
   "source": []
  },
  {
   "cell_type": "code",
   "execution_count": null,
   "id": "38acb3c7",
   "metadata": {},
   "outputs": [],
   "source": []
  }
 ],
 "metadata": {
  "kernelspec": {
   "display_name": "Python [conda env:UOL_sp_final_ex2] *",
   "language": "python",
   "name": "conda-env-UOL_sp_final_ex2-py"
  },
  "language_info": {
   "codemirror_mode": {
    "name": "ipython",
    "version": 3
   },
   "file_extension": ".py",
   "mimetype": "text/x-python",
   "name": "python",
   "nbconvert_exporter": "python",
   "pygments_lexer": "ipython3",
   "version": "3.7.16"
  }
 },
 "nbformat": 4,
 "nbformat_minor": 5
}
