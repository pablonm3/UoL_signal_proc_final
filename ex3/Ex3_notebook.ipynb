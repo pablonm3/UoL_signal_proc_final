{
 "cells": [
  {
   "cell_type": "markdown",
   "id": "db0f8fba",
   "metadata": {},
   "source": [
    "# Video analysis and report generation "
   ]
  },
  {
   "cell_type": "markdown",
   "id": "e8d4cee2",
   "metadata": {},
   "source": [
    "## Define dictionary with expected values for video features"
   ]
  },
  {
   "cell_type": "code",
   "execution_count": 1,
   "id": "be8362ea",
   "metadata": {},
   "outputs": [],
   "source": [
    "EXPECTED_FORMAT = {\n",
    "    \"container\": \"mp42\",\n",
    "    \"container_short_name\": \"mp4\",\n",
    "    \"video_codec\": \"h264\",\n",
    "    \"audio_codec\": \"aac\",\n",
    "    \"frame_rate\": 25,\n",
    "    \"aspect_ratio\": \"16:9\",\n",
    "    \"resolution_width\": 640,\n",
    "    \"resolution_height\": 360, \n",
    "    \"video_br_min_mbs\": 2,\n",
    "    \"video_br_max_mbs\": 5, \n",
    "    \"audio_br_max_kbs\": 256,\n",
    "    \"audio_channels\": 2\n",
    "}"
   ]
  },
  {
   "cell_type": "code",
   "execution_count": 2,
   "id": "c96cee04",
   "metadata": {},
   "outputs": [],
   "source": [
    "INPUT_FILE = \"Cosmos_War_of_the_Planets.mp4\"\n",
    "IN_FOLDER = \"input_files\"\n",
    "OUT_FOLDER = \"output_files\"\n",
    "\n",
    "VIDEO_FILENAME = \"input_files/Cosmos_War_of_the_Planets.mp4\""
   ]
  },
  {
   "cell_type": "markdown",
   "id": "0fd6bdf6",
   "metadata": {},
   "source": [
    "## Define important functions\n"
   ]
  },
  {
   "cell_type": "markdown",
   "id": "9c5ad7c6",
   "metadata": {},
   "source": [
    "\n",
    "**probe_file**:\n",
    "Function that runs ffprobe command inside python and returns its output inspired by: https://stackoverflow.com/a/9896732\n",
    "\n",
    "**parse_probe**: parses output from ffprobe (probe_file function) and returns a dictionary with only the features we care to analyze.\n",
    "\n",
    "**compare_attrs**: Compares features extracted on parse_probe function with the ones expected defined on EXPECTED_FORMAT, returns a list of tuples with each tuple being: (feature name, feature value)\n",
    "\n",
    "**extract_stream_info**: Extract stream based on name provided from ffprobe's output. used to extract video and audio streams."
   ]
  },
  {
   "cell_type": "code",
   "execution_count": 3,
   "id": "14a735df",
   "metadata": {},
   "outputs": [],
   "source": [
    "import os, sys, subprocess, shlex, re\n",
    "import json\n",
    "from subprocess import call\n",
    "from fractions import Fraction\n",
    "\n",
    "def probe_file(filename):\n",
    "    cmd = ['ffprobe', \"-print_format\", \"json\", \"-show_streams\", '-show_format', '-pretty', '-loglevel', 'quiet', filename]\n",
    "    print(\" \".join(cmd)) \n",
    "    p = subprocess.Popen(cmd, stdout=subprocess.PIPE, stderr=subprocess.PIPE)\n",
    "    out, err =  p.communicate()\n",
    "    if err:\n",
    "        print (\"========= error ========\")\n",
    "        print(err)\n",
    "        raise Exception(err)\n",
    "    return json.loads(out)\n",
    "\n",
    "def calc_ar(w, h):\n",
    "    fr = Fraction(w,h)\n",
    "    num = fr.numerator\n",
    "    denom = fr.denominator\n",
    "    return f\"{num}:{denom}\"\n",
    "\n",
    "def parse_probe(probe_r):\n",
    "    # EXTRACT NEEDED INFO FROM FFPROBE OUTPUT HERE\n",
    "    r = {}\n",
    "    video_info = extract_stream_info(probe_r, \"video\")\n",
    "    audio_info = extract_stream_info(probe_r, \"audio\")\n",
    "    r[\"container\"] = probe_r[\"format\"][\"tags\"][\"major_brand\"] if \"tags\" in probe_r[\"format\"] else probe_r[\"format\"][\"format_name\"]\n",
    "    r[\"video_codec\"] = video_info[\"codec_name\"]\n",
    "    r[\"audio_codec\"] = audio_info[\"codec_name\"]\n",
    "    if \"/\" in video_info[\"avg_frame_rate\"]:\n",
    "        num, denom = video_info[\"avg_frame_rate\"].split(\"/\")\n",
    "        fr = int(num) / int(denom)\n",
    "    else:\n",
    "        fr = int(video_info[\"avg_frame_rate\"])\n",
    "    r[\"frame_rate\"] = fr\n",
    "    \n",
    "    r[\"aspect_ratio\"] = video_info[\"display_aspect_ratio\"] if \"display_aspect_ratio\" in video_info else calc_ar(video_info[\"width\"], video_info[\"height\"])\n",
    "    r[\"resolution_width\"] = video_info[\"width\"]\n",
    "    r[\"resolution_height\"] = video_info[\"height\"]\n",
    "    r[\"video_br_mbs\"] = video_info[\"bit_rate\"]\n",
    "    r[\"audio_br_kbs\"] = audio_info[\"bit_rate\"]\n",
    "    \n",
    "    r[\"audio_channels\"]= audio_info[\"channels\"]\n",
    "    return r\n",
    "\n",
    "def compare_attrs(video_format, expected_format):\n",
    "    problematic_fields = []\n",
    "    #FIXME video_format[\"container\"] is the codec not the container. how do I get the container?\n",
    "    if(video_format[\"container\"] != expected_format[\"container\"]):\n",
    "        problematic_fields.append((\"container\", video_format[\"container\"]))\n",
    "    if(video_format[\"video_codec\"] != expected_format[\"video_codec\"]):\n",
    "        problematic_fields.append((\"video_codec\", video_format[\"video_codec\"]))\n",
    "    if(video_format[\"audio_codec\"] != expected_format[\"audio_codec\"]):\n",
    "        problematic_fields.append((\"audio_codec\", video_format[\"audio_codec\"]))\n",
    "    if(video_format[\"frame_rate\"] != expected_format[\"frame_rate\"]):\n",
    "        problematic_fields.append((\"frame_rate\", video_format[\"frame_rate\"]))\n",
    "    if(video_format[\"aspect_ratio\"] != expected_format[\"aspect_ratio\"]):\n",
    "        problematic_fields.append((\"aspect_ratio\", video_format[\"aspect_ratio\"]))\n",
    "    if(video_format[\"resolution_width\"] != expected_format[\"resolution_width\"]):\n",
    "        problematic_fields.append((\"resolution_width\", video_format[\"resolution_width\"]))\n",
    "    if(video_format[\"resolution_height\"] != expected_format[\"resolution_height\"]):\n",
    "        problematic_fields.append((\"resolution_height\", video_format[\"resolution_height\"]))\n",
    "    video_br_min_mbs = expected_format[\"video_br_min_mbs\"]\n",
    "    video_br_max_mbs = expected_format[\"video_br_max_mbs\"]\n",
    "    video_br_mbs = float(video_format[\"video_br_mbs\"].split()[0])\n",
    "    if(video_br_mbs < video_br_min_mbs):\n",
    "        problematic_fields.append((\"video_br_min_mbs\", video_br_mbs))\n",
    "    if(video_br_mbs > video_br_max_mbs):\n",
    "        problematic_fields.append((\"video_br_max_mbs\", video_br_mbs))\n",
    "    audio_br_kbs = float(video_format[\"audio_br_kbs\"].split()[0])\n",
    "    if(audio_br_kbs > expected_format[\"audio_br_max_kbs\"]):\n",
    "        problematic_fields.append((\"audio_br_max_kbs\", audio_br_kbs))\n",
    "    if(video_format[\"audio_channels\"] != expected_format[\"audio_channels\"]):\n",
    "        problematic_fields.append((\"audio_channels\", video_format[\"audio_channels\"]))\n",
    "    return problematic_fields\n",
    "    \n",
    "def extract_stream_info(result, codec_type):\n",
    "    for stream in result[\"streams\"]:\n",
    "        if(stream[\"codec_type\"] == codec_type):\n",
    "            return stream\n",
    "    return None\n",
    "    \n",
    "    "
   ]
  },
  {
   "cell_type": "markdown",
   "id": "41436d29",
   "metadata": {},
   "source": [
    "**prettify_field_name**: make some field names more readable, used when generating txt report to convert some of the problematic fields to a more readable name\n",
    "\n",
    "**write_report_lines**: Given the input video filename and list of problems given on misssing_attrs arg, adds to given list of lines all the problems for the file in human readable way. List of lines will later be written to txt report"
   ]
  },
  {
   "cell_type": "code",
   "execution_count": 4,
   "id": "254f4714",
   "metadata": {},
   "outputs": [],
   "source": [
    "\n",
    "def prettify_field_name(field_name):\n",
    "    FIELD_CONVERSION_MAP = {\n",
    "        \"video_br_min_mbs\": \"min video bitrate\",\n",
    "        \"video_br_max_mbs\": \"max video bitrate\", \n",
    "        \"audio_br_max_kbs\": \"max audio bitrate\",\n",
    "    }\n",
    "    if field_name in FIELD_CONVERSION_MAP:\n",
    "        return FIELD_CONVERSION_MAP[field_name]\n",
    "    return field_name\n",
    "\n",
    "def write_report_lines(lines, misssing_attrs, filename):\n",
    "    issues = []\n",
    "    for attr_type, value in misssing_attrs:\n",
    "        issues.append(f\"{prettify_field_name(attr_type)} is {value} but expected value is {EXPECTED_FORMAT[attr_type]}\")\n",
    "    if(issues):\n",
    "        line = f\"filename: {filename} - {', '.join(issues)}\"\n",
    "        lines.append(line)"
   ]
  },
  {
   "cell_type": "code",
   "execution_count": 5,
   "id": "a6230148",
   "metadata": {},
   "outputs": [],
   "source": [
    "filenames = [f\"{IN_FOLDER}/Cosmos_War_of_the_Planets.mp4\",\n",
    "        f\"{IN_FOLDER}/Last_man_on_earth_1964.mov\",\n",
    "        f\"{IN_FOLDER}/The_Gun_and_the_Pulpit.avi\",\n",
    "        f\"{IN_FOLDER}/The_Hill_Gang_Rides_Again.mp4\",\n",
    "        f\"{IN_FOLDER}/Voyage_to_the_Planet_of_Prehistoric_Women.mp4\"]"
   ]
  },
  {
   "cell_type": "markdown",
   "id": "0f37127c",
   "metadata": {},
   "source": [
    "**generate_report**: Given list of video filenames runs ffprobe(probe_file), parses its output(parse_probe), compares extracted fields with expected fields(compare_attrs) and adds the result in a human readable way to a list of text lines(write_report_lines)"
   ]
  },
  {
   "cell_type": "code",
   "execution_count": 6,
   "id": "9d34e70e",
   "metadata": {},
   "outputs": [],
   "source": [
    "def generate_report(filenames):\n",
    "    lines = []\n",
    "    changes_per_file = []\n",
    "    for file_path in filenames:\n",
    "        result = probe_file(file_path)\n",
    "        video_format = parse_probe(result)\n",
    "        misssing_attrs = compare_attrs(video_format, EXPECTED_FORMAT)\n",
    "        changes_per_file.append((file_path, misssing_attrs))\n",
    "        write_report_lines(lines, misssing_attrs, file_path)\n",
    "    if(not lines):\n",
    "        lines.append(\"All video files have expected format\")\n",
    "    return lines, changes_per_file"
   ]
  },
  {
   "cell_type": "code",
   "execution_count": 7,
   "id": "89afecc3",
   "metadata": {},
   "outputs": [
    {
     "name": "stdout",
     "output_type": "stream",
     "text": [
      "ffprobe -print_format json -show_streams -show_format -pretty -loglevel quiet input_files/Cosmos_War_of_the_Planets.mp4\n",
      "ffprobe -print_format json -show_streams -show_format -pretty -loglevel quiet input_files/Last_man_on_earth_1964.mov\n",
      "ffprobe -print_format json -show_streams -show_format -pretty -loglevel quiet input_files/The_Gun_and_the_Pulpit.avi\n",
      "ffprobe -print_format json -show_streams -show_format -pretty -loglevel quiet input_files/The_Hill_Gang_Rides_Again.mp4\n",
      "ffprobe -print_format json -show_streams -show_format -pretty -loglevel quiet input_files/Voyage_to_the_Planet_of_Prehistoric_Women.mp4\n"
     ]
    }
   ],
   "source": [
    "report_lines, changes_per_file = generate_report(filenames)"
   ]
  },
  {
   "cell_type": "markdown",
   "id": "3d332a00",
   "metadata": {},
   "source": [
    "## Output from generate_report  \n",
    "report_lines: Human readable text lines with issues with videos, written to report txt  \n",
    "changes_per_file: Changes that are required to each file."
   ]
  },
  {
   "cell_type": "code",
   "execution_count": 8,
   "id": "6dfb48c9",
   "metadata": {},
   "outputs": [
    {
     "data": {
      "text/plain": [
       "['filename: input_files/Cosmos_War_of_the_Planets.mp4 - frame_rate is 29.97002997002997 but expected value is 25, aspect_ratio is 314:177 but expected value is 16:9, resolution_width is 628 but expected value is 640, resolution_height is 354 but expected value is 360, max audio bitrate is 317.103 but expected value is 256',\n",
       " 'filename: input_files/Last_man_on_earth_1964.mov - container is qt   but expected value is mp42, video_codec is prores but expected value is h264, audio_codec is pcm_s16le but expected value is aac, frame_rate is 23.976023976023978 but expected value is 25, max video bitrate is 9.285191 but expected value is 5',\n",
       " 'filename: input_files/The_Gun_and_the_Pulpit.avi - container is avi but expected value is mp42, video_codec is rawvideo but expected value is h264, audio_codec is pcm_s16le but expected value is aac, aspect_ratio is 180:101 but expected value is 16:9, resolution_width is 720 but expected value is 640, resolution_height is 404 but expected value is 360, max video bitrate is 87.438878 but expected value is 5',\n",
       " 'filename: input_files/The_Hill_Gang_Rides_Again.mp4 - max video bitrate is 7.53773 but expected value is 5',\n",
       " 'filename: input_files/Voyage_to_the_Planet_of_Prehistoric_Women.mp4 - video_codec is hevc but expected value is h264, audio_codec is mp3 but expected value is aac, frame_rate is 29.97002997002997 but expected value is 25, max video bitrate is 8.038857 but expected value is 5, max audio bitrate is 320.0 but expected value is 256']"
      ]
     },
     "execution_count": 8,
     "metadata": {},
     "output_type": "execute_result"
    }
   ],
   "source": [
    "report_lines"
   ]
  },
  {
   "cell_type": "code",
   "execution_count": 9,
   "id": "f9eb6dc9",
   "metadata": {},
   "outputs": [
    {
     "data": {
      "text/plain": [
       "[('input_files/Cosmos_War_of_the_Planets.mp4',\n",
       "  [('frame_rate', 29.97002997002997),\n",
       "   ('aspect_ratio', '314:177'),\n",
       "   ('resolution_width', 628),\n",
       "   ('resolution_height', 354),\n",
       "   ('audio_br_max_kbs', 317.103)]),\n",
       " ('input_files/Last_man_on_earth_1964.mov',\n",
       "  [('container', 'qt  '),\n",
       "   ('video_codec', 'prores'),\n",
       "   ('audio_codec', 'pcm_s16le'),\n",
       "   ('frame_rate', 23.976023976023978),\n",
       "   ('video_br_max_mbs', 9.285191)]),\n",
       " ('input_files/The_Gun_and_the_Pulpit.avi',\n",
       "  [('container', 'avi'),\n",
       "   ('video_codec', 'rawvideo'),\n",
       "   ('audio_codec', 'pcm_s16le'),\n",
       "   ('aspect_ratio', '180:101'),\n",
       "   ('resolution_width', 720),\n",
       "   ('resolution_height', 404),\n",
       "   ('video_br_max_mbs', 87.438878)]),\n",
       " ('input_files/The_Hill_Gang_Rides_Again.mp4',\n",
       "  [('video_br_max_mbs', 7.53773)]),\n",
       " ('input_files/Voyage_to_the_Planet_of_Prehistoric_Women.mp4',\n",
       "  [('video_codec', 'hevc'),\n",
       "   ('audio_codec', 'mp3'),\n",
       "   ('frame_rate', 29.97002997002997),\n",
       "   ('video_br_max_mbs', 8.038857),\n",
       "   ('audio_br_max_kbs', 320.0)])]"
      ]
     },
     "execution_count": 9,
     "metadata": {},
     "output_type": "execute_result"
    }
   ],
   "source": [
    "changes_per_file"
   ]
  },
  {
   "cell_type": "markdown",
   "id": "55d2c7e8",
   "metadata": {},
   "source": [
    "# Write report to txt file"
   ]
  },
  {
   "cell_type": "code",
   "execution_count": 10,
   "id": "9c7ded0c",
   "metadata": {},
   "outputs": [],
   "source": [
    "report_file_path = f\"{OUT_FOLDER}/report.txt\"\n",
    "\n",
    "with open(report_file_path, 'w') as f:\n",
    "     for line in report_lines:\n",
    "        f.write(f\"{line}\\n\\n\\n\")"
   ]
  },
  {
   "cell_type": "markdown",
   "id": "d10fa57e",
   "metadata": {},
   "source": [
    "# Convert videos to expected format"
   ]
  },
  {
   "cell_type": "markdown",
   "id": "69f730ba",
   "metadata": {},
   "source": [
    "**ffmpeg_file**: Given a video filename, a list of transformation and a path to an output folder calls ffmpeg with the required flags to perform the transformations and store the new video in output folder."
   ]
  },
  {
   "cell_type": "markdown",
   "id": "ff722648",
   "metadata": {},
   "source": [
    "**Flags used on ffmpeg call**:  \n",
    "\n",
    "    -pix_fmt yuv420p: Solves issue with video not being played on quicktime player because of some idiosyncrasies of this player, source: https://trac.ffmpeg.org/wiki/Encode/H.264#Encodingfordumbplayers\n",
    "    -y: Ovewrite output videos without asking confirmation\n",
    "    -brand mp42: ensure container is mp4\n",
    "    -b:v 3.5M: Change video bitrate to 3.5 Mb/s, middle between upper and lower bound\n",
    "    -ac 2: Change audio channels to 2(Stereo)  \n",
    "    -b:a 256K: change audio bitrate to 256 Kb/s  \n",
    "    -vf scale=640x360,setdar=16/9: change vide dimensions to 640x360 and aspect ratio to 16:9  \n",
    "    -c:a aac: convert audio to aac encoding  \n",
    "    -c:v h264: convert video codec to h264  \n",
    "    -r 25: Convert frame rate to 25  "
   ]
  },
  {
   "cell_type": "code",
   "execution_count": 11,
   "id": "ff8fa8bb",
   "metadata": {},
   "outputs": [],
   "source": [
    "def ffmpeg_file(filename, transformations, output_folder):\n",
    "    changes = []\n",
    "    current_extension = filename.split(\".\")[-1]\n",
    "    output_filename = filename.replace(current_extension, EXPECTED_FORMAT[\"container_short_name\"])\n",
    "    output_filename = output_filename.split(\"/\")[-1]\n",
    "    output_filename = f\"{output_folder}/{output_filename}\"\n",
    "    for key, value in transformations:\n",
    "        if(key==\"frame_rate\"):\n",
    "            changes.append(\"-r\")\n",
    "            changes.append(f\"{EXPECTED_FORMAT[key]}\")\n",
    "        if(key==\"video_codec\"):\n",
    "            changes.append(\"-c:v\")\n",
    "            changes.append(EXPECTED_FORMAT[key])\n",
    "        if(key==\"audio_codec\"):\n",
    "            changes.append(\"-c:a\")\n",
    "            changes.append(EXPECTED_FORMAT[key])\n",
    "        if(key in [\"resolution_width\", \"resolution_height\"]):\n",
    "            expected_size = f\"{EXPECTED_FORMAT['resolution_width']}x{EXPECTED_FORMAT['resolution_height']}\"\n",
    "            changes.append(\"-vf\")\n",
    "            changes.append(f\"scale={expected_size},setdar=16/9\")\n",
    "        if(key == \"audio_br_max_kbs\"):\n",
    "            changes.append(\"-b:a\")\n",
    "            changes.append(f\"{EXPECTED_FORMAT[key]}k\")\n",
    "        if(key == \"audio_channels\"):\n",
    "            changes.append(\"-ac\")\n",
    "            changes.append(f\"{EXPECTED_FORMAT[key]}\")\n",
    "    cmd = ['ffmpeg', \"-i\", filename]\n",
    "    cmd.extend(changes)\n",
    "    br_med = EXPECTED_FORMAT[\"video_br_min_mbs\"] + ((EXPECTED_FORMAT[\"video_br_max_mbs\"] - EXPECTED_FORMAT[\"video_br_min_mbs\"])/2)\n",
    "    cmd.extend([\"-y\", \"-pix_fmt\", \"yuv420p\", \"-brand\",EXPECTED_FORMAT[\"container\"], \"-b:v\", f\"{br_med}M\", output_filename])\n",
    "    print(\" \".join(cmd)) \n",
    "    p = subprocess.Popen(cmd, stdout=subprocess.PIPE, stderr=subprocess.PIPE)\n",
    "    out, err = p.communicate()\n",
    "    return output_filename"
   ]
  },
  {
   "cell_type": "code",
   "execution_count": 12,
   "id": "d2cc0e59",
   "metadata": {},
   "outputs": [
    {
     "name": "stdout",
     "output_type": "stream",
     "text": [
      "ffmpeg -i input_files/Cosmos_War_of_the_Planets.mp4 -r 25 -vf scale=640x360,setdar=16/9 -vf scale=640x360,setdar=16/9 -b:a 256k -y -pix_fmt yuv420p -brand mp42 -b:v 3.5M output_files/Cosmos_War_of_the_Planets.mp4\n",
      "ffmpeg -i input_files/Last_man_on_earth_1964.mov -c:v h264 -c:a aac -r 25 -y -pix_fmt yuv420p -brand mp42 -b:v 3.5M output_files/Last_man_on_earth_1964.mp4\n",
      "ffmpeg -i input_files/The_Gun_and_the_Pulpit.avi -c:v h264 -c:a aac -vf scale=640x360,setdar=16/9 -vf scale=640x360,setdar=16/9 -y -pix_fmt yuv420p -brand mp42 -b:v 3.5M output_files/The_Gun_and_the_Pulpit.mp4\n",
      "ffmpeg -i input_files/The_Hill_Gang_Rides_Again.mp4 -y -pix_fmt yuv420p -brand mp42 -b:v 3.5M output_files/The_Hill_Gang_Rides_Again.mp4\n",
      "ffmpeg -i input_files/Voyage_to_the_Planet_of_Prehistoric_Women.mp4 -c:v h264 -c:a aac -r 25 -b:a 256k -y -pix_fmt yuv420p -brand mp42 -b:v 3.5M output_files/Voyage_to_the_Planet_of_Prehistoric_Women.mp4\n"
     ]
    }
   ],
   "source": [
    "output_filenames = []\n",
    "for filename, changes in changes_per_file:\n",
    "    output_filename = ffmpeg_file(filename, changes, OUT_FOLDER)\n",
    "    output_filenames.append(output_filename)"
   ]
  },
  {
   "cell_type": "markdown",
   "id": "ecf60123",
   "metadata": {},
   "source": [
    "# Run report again on output files to validate all generated videos have required format"
   ]
  },
  {
   "cell_type": "code",
   "execution_count": 13,
   "id": "f64474cf",
   "metadata": {},
   "outputs": [
    {
     "name": "stdout",
     "output_type": "stream",
     "text": [
      "ffprobe -print_format json -show_streams -show_format -pretty -loglevel quiet output_files/Cosmos_War_of_the_Planets.mp4\n",
      "ffprobe -print_format json -show_streams -show_format -pretty -loglevel quiet output_files/Last_man_on_earth_1964.mp4\n",
      "ffprobe -print_format json -show_streams -show_format -pretty -loglevel quiet output_files/The_Gun_and_the_Pulpit.mp4\n",
      "ffprobe -print_format json -show_streams -show_format -pretty -loglevel quiet output_files/The_Hill_Gang_Rides_Again.mp4\n",
      "ffprobe -print_format json -show_streams -show_format -pretty -loglevel quiet output_files/Voyage_to_the_Planet_of_Prehistoric_Women.mp4\n"
     ]
    },
    {
     "data": {
      "text/plain": [
       "['All video files have expected format']"
      ]
     },
     "execution_count": 13,
     "metadata": {},
     "output_type": "execute_result"
    }
   ],
   "source": [
    "report_lines2, changes_per_file2 = generate_report(output_filenames)\n",
    "report_lines2"
   ]
  },
  {
   "cell_type": "code",
   "execution_count": 14,
   "id": "ba408a4f",
   "metadata": {},
   "outputs": [
    {
     "data": {
      "text/plain": [
       "[('output_files/Cosmos_War_of_the_Planets.mp4', []),\n",
       " ('output_files/Last_man_on_earth_1964.mp4', []),\n",
       " ('output_files/The_Gun_and_the_Pulpit.mp4', []),\n",
       " ('output_files/The_Hill_Gang_Rides_Again.mp4', []),\n",
       " ('output_files/Voyage_to_the_Planet_of_Prehistoric_Women.mp4', [])]"
      ]
     },
     "execution_count": 14,
     "metadata": {},
     "output_type": "execute_result"
    }
   ],
   "source": [
    "changes_per_file2"
   ]
  },
  {
   "cell_type": "markdown",
   "id": "4326988a",
   "metadata": {},
   "source": [
    "After analyzing output videos report shows no issues, they were properly converted"
   ]
  },
  {
   "cell_type": "code",
   "execution_count": null,
   "id": "54fd6fc4",
   "metadata": {},
   "outputs": [],
   "source": []
  }
 ],
 "metadata": {
  "kernelspec": {
   "display_name": "Python [conda env:UOL_sp_final_ex2] *",
   "language": "python",
   "name": "conda-env-UOL_sp_final_ex2-py"
  },
  "language_info": {
   "codemirror_mode": {
    "name": "ipython",
    "version": 3
   },
   "file_extension": ".py",
   "mimetype": "text/x-python",
   "name": "python",
   "nbconvert_exporter": "python",
   "pygments_lexer": "ipython3",
   "version": "3.7.16"
  }
 },
 "nbformat": 4,
 "nbformat_minor": 5
}
