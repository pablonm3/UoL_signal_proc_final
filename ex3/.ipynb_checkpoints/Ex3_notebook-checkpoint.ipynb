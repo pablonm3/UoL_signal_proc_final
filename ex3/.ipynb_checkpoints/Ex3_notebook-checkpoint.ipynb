{
 "cells": [
  {
   "cell_type": "markdown",
   "id": "1e4e5fd2",
   "metadata": {},
   "source": [
    "# Data exploration of input videos"
   ]
  },
  {
   "cell_type": "code",
   "execution_count": 1,
   "id": "19efa318",
   "metadata": {},
   "outputs": [
    {
     "name": "stdout",
     "output_type": "stream",
     "text": [
      "Input #0, mov,mp4,m4a,3gp,3g2,mj2, from 'input_files/Cosmos_War_of_the_Planets.mp4':\r\n",
      "  Metadata:\r\n",
      "    major_brand     : mp42\r\n",
      "    minor_version   : 0\r\n",
      "    compatible_brands: mp42mp41\r\n",
      "    creation_time   : 2021-08-02T19:15:48.000000Z\r\n",
      "  Duration: 00:00:20.05, start: 0.000000, bitrate: 3309 kb/s\r\n",
      "  Stream #0:0[0x1](eng): Video: h264 (Main) (avc1 / 0x31637661), yuv420p(progressive), 628x354 [SAR 1:1 DAR 314:177], 2989 kb/s, 29.97 fps, 29.97 tbr, 30k tbn (default)\r\n",
      "    Metadata:\r\n",
      "      creation_time   : 2021-08-02T19:15:48.000000Z\r\n",
      "      handler_name    : ?Mainconcept Video Media Handler\r\n",
      "      vendor_id       : [0][0][0][0]\r\n",
      "      encoder         : AVC Coding\r\n",
      "  Stream #0:1[0x2](eng): Audio: aac (LC) (mp4a / 0x6134706D), 48000 Hz, stereo, fltp, 317 kb/s (default)\r\n",
      "    Metadata:\r\n",
      "      creation_time   : 2021-08-02T19:15:48.000000Z\r\n",
      "      handler_name    : #Mainconcept MP4 Sound Media Handler\r\n",
      "      vendor_id       : [0][0][0][0]\r\n"
     ]
    }
   ],
   "source": [
    "!ffprobe -hide_banner input_files/Cosmos_War_of_the_Planets.mp4"
   ]
  },
  {
   "cell_type": "code",
   "execution_count": 2,
   "id": "d9c15346",
   "metadata": {},
   "outputs": [
    {
     "data": {
      "text/html": [
       "<video src=\"input_files/Cosmos_War_of_the_Planets.mp4\" controls  >\n",
       "      Your browser does not support the <code>video</code> element.\n",
       "    </video>"
      ],
      "text/plain": [
       "<IPython.core.display.Video object>"
      ]
     },
     "execution_count": 2,
     "metadata": {},
     "output_type": "execute_result"
    }
   ],
   "source": [
    "from IPython.display import Video\n",
    "Video(\"input_files/Cosmos_War_of_the_Planets.mp4\")"
   ]
  },
  {
   "cell_type": "markdown",
   "id": "de3b5c30",
   "metadata": {},
   "source": [
    "# Video analysis and report generation "
   ]
  },
  {
   "cell_type": "code",
   "execution_count": 3,
   "id": "f2f82426",
   "metadata": {},
   "outputs": [],
   "source": [
    "EXPECTED_FORMAT = {\n",
    "    \"container\": \"mp42\",\n",
    "    \"container_short_name\": \"mp4\",\n",
    "    \"video_codec\": \"h264\",\n",
    "    \"audio_codec\": \"aac\",\n",
    "    \"frame_rate\": 25,\n",
    "    \"aspect_ratio\": \"16:9\",\n",
    "    \"resolution_width\": 640,\n",
    "    \"resolution_height\": 360, \n",
    "    \"video_br_min_mbs\": 2,\n",
    "    \"video_br_max_mbs\": 5, \n",
    "    \"audio_br_max_kbs\": 256,\n",
    "    \"audio_channels\": 2\n",
    "}"
   ]
  },
  {
   "cell_type": "code",
   "execution_count": 4,
   "id": "58a093f8",
   "metadata": {},
   "outputs": [],
   "source": [
    "INPUT_FILE = \"Cosmos_War_of_the_Planets.mp4\"\n",
    "IN_FOLDER = \"input_files\"\n",
    "OUT_FOLDER = \"output_files\"\n",
    "\n",
    "VIDEO_FILENAME = \"input_files/Cosmos_War_of_the_Planets.mp4\"\n",
    "VIDEO_FILENAME = \"output_files/Voyage_to_the_Planet_of_Prehistoric_Women.mp4\"\n",
    "#VIDEO_FILENAME = \"input_files/The_Gun_and_the_Pulpit.avi\"\n",
    "#VIDEO_FILENAME = \"input_files/The_Hill_Gang_Rides_Again.mp4\"\n",
    "#VIDEO_FILENAME = \"input_files/Voyage_to_the_Planet_of_Prehistoric_Women.mp4\""
   ]
  },
  {
   "cell_type": "markdown",
   "id": "72f8cf06",
   "metadata": {},
   "source": [
    "Function that runs ffprobe command inside python and returns its output inspired by: https://stackoverflow.com/a/9896732"
   ]
  },
  {
   "cell_type": "code",
   "execution_count": 5,
   "id": "67eeb087",
   "metadata": {},
   "outputs": [
    {
     "name": "stdout",
     "output_type": "stream",
     "text": [
      "ffprobe -print_format json -show_streams -show_format -pretty -loglevel quiet output_files/Voyage_to_the_Planet_of_Prehistoric_Women.mp4\n"
     ]
    },
    {
     "data": {
      "text/plain": [
       "[('container', 'isom'), ('video_br_max_mbs', 444.536)]"
      ]
     },
     "execution_count": 5,
     "metadata": {},
     "output_type": "execute_result"
    }
   ],
   "source": [
    "import os, sys, subprocess, shlex, re\n",
    "import json\n",
    "from subprocess import call\n",
    "from fractions import Fraction\n",
    "\n",
    "def probe_file(filename):\n",
    "    cmd = ['ffprobe', \"-print_format\", \"json\", \"-show_streams\", '-show_format', '-pretty', '-loglevel', 'quiet', filename]\n",
    "    print(\" \".join(cmd)) \n",
    "    p = subprocess.Popen(cmd, stdout=subprocess.PIPE, stderr=subprocess.PIPE)\n",
    "    out, err =  p.communicate()\n",
    "    if err:\n",
    "        print (\"========= error ========\")\n",
    "        print(err)\n",
    "        raise Exception(err)\n",
    "    return json.loads(out)\n",
    "\n",
    "def calc_ar(w, h):\n",
    "    fr = Fraction(w,h)\n",
    "    num = fr.numerator\n",
    "    denom = fr.denominator\n",
    "    return f\"{num}:{denom}\"\n",
    "\n",
    "def parse_probe(probe_r):\n",
    "    # TODO: EXTRACT NEEDED INFO FROM FFPROBE OUTPUT HERE\n",
    "    r = {}\n",
    "    video_info = extract_stream_info(result, \"video\")\n",
    "    audio_info = extract_stream_info(result, \"audio\")\n",
    "    r[\"container\"] = probe_r[\"format\"][\"tags\"][\"major_brand\"] if \"tags\" in probe_r[\"format\"] else probe_r[\"format\"][\"format_name\"]\n",
    "    r[\"video_codec\"] = video_info[\"codec_name\"]\n",
    "    r[\"audio_codec\"] = audio_info[\"codec_name\"]\n",
    "    if \"/\" in video_info[\"avg_frame_rate\"]:\n",
    "        num, denom = video_info[\"avg_frame_rate\"].split(\"/\")\n",
    "        fr = int(num) / int(denom)\n",
    "    else:\n",
    "        fr = int(video_info[\"avg_frame_rate\"])\n",
    "    r[\"frame_rate\"] = fr\n",
    "    \n",
    "    r[\"aspect_ratio\"] = video_info[\"display_aspect_ratio\"] if \"display_aspect_ratio\" in video_info else calc_ar(video_info[\"width\"], video_info[\"height\"])\n",
    "    r[\"resolution_width\"] = video_info[\"width\"]\n",
    "    r[\"resolution_height\"] = video_info[\"height\"]\n",
    "    r[\"video_br_mbs\"] = video_info[\"bit_rate\"]\n",
    "    r[\"audio_br_kbs\"] = audio_info[\"bit_rate\"]\n",
    "    \n",
    "    r[\"audio_channels\"]= audio_info[\"channels\"]\n",
    "    return r\n",
    "\n",
    "def compare_attrs(video_format, expected_format):\n",
    "    problematic_fields = []\n",
    "    #FIXME video_format[\"container\"] is the codec not the container. how do I get the container?\n",
    "    if(video_format[\"container\"] != expected_format[\"container\"]):\n",
    "        problematic_fields.append((\"container\", video_format[\"container\"]))\n",
    "    if(video_format[\"video_codec\"] != expected_format[\"video_codec\"]):\n",
    "        problematic_fields.append((\"video_codec\", video_format[\"video_codec\"]))\n",
    "    if(video_format[\"audio_codec\"] != expected_format[\"audio_codec\"]):\n",
    "        problematic_fields.append((\"audio_codec\", video_format[\"audio_codec\"]))\n",
    "    if(video_format[\"frame_rate\"] != expected_format[\"frame_rate\"]):\n",
    "        problematic_fields.append((\"frame_rate\", video_format[\"frame_rate\"]))\n",
    "    if(video_format[\"aspect_ratio\"] != expected_format[\"aspect_ratio\"]):\n",
    "        problematic_fields.append((\"aspect_ratio\", video_format[\"aspect_ratio\"]))\n",
    "    if(video_format[\"resolution_width\"] != expected_format[\"resolution_width\"]):\n",
    "        problematic_fields.append((\"resolution_width\", video_format[\"resolution_width\"]))\n",
    "    if(video_format[\"resolution_height\"] != expected_format[\"resolution_height\"]):\n",
    "        problematic_fields.append((\"resolution_height\", video_format[\"resolution_height\"]))\n",
    "    video_br_min_mbs = expected_format[\"video_br_min_mbs\"]\n",
    "    video_br_max_mbs = expected_format[\"video_br_max_mbs\"]\n",
    "    video_br_mbs = float(video_format[\"video_br_mbs\"].split()[0])\n",
    "    if(video_br_mbs < video_br_min_mbs):\n",
    "        problematic_fields.append((\"video_br_min_mbs\", video_br_mbs))\n",
    "    if(video_br_mbs > video_br_max_mbs):\n",
    "        problematic_fields.append((\"video_br_max_mbs\", video_br_mbs))\n",
    "    audio_br_kbs = float(video_format[\"audio_br_kbs\"].split()[0])\n",
    "    if(audio_br_kbs > expected_format[\"audio_br_max_kbs\"]):\n",
    "        problematic_fields.append((\"audio_br_max_kbs\", audio_br_kbs))\n",
    "    if(video_format[\"audio_channels\"] != expected_format[\"audio_channels\"]):\n",
    "        problematic_fields.append((\"audio_channels\", video_format[\"audio_channels\"]))\n",
    "    return problematic_fields\n",
    "    \n",
    "def extract_stream_info(result, codec_type):\n",
    "    for stream in result[\"streams\"]:\n",
    "        if(stream[\"codec_type\"] == codec_type):\n",
    "            return stream\n",
    "    return None\n",
    "    \n",
    "    \n",
    "result = probe_file(VIDEO_FILENAME)\n",
    "video_format = parse_probe(result)\n",
    "misssing_attrs = compare_attrs(video_format, EXPECTED_FORMAT)\n",
    "misssing_attrs"
   ]
  },
  {
   "cell_type": "code",
   "execution_count": 6,
   "id": "ca3719d3",
   "metadata": {},
   "outputs": [],
   "source": [
    "\n",
    "def prettify_field_name(field_name):\n",
    "    FIELD_CONVERSION_MAP = {\n",
    "        \"video_br_min_mbs\": \"min video bitrate\",\n",
    "        \"video_br_max_mbs\": \"max video bitrate\", \n",
    "        \"audio_br_max_kbs\": \"max audio bitrate\",\n",
    "    }\n",
    "    if field_name in FIELD_CONVERSION_MAP:\n",
    "        return FIELD_CONVERSION_MAP[field_name]\n",
    "    return field_name\n",
    "\n",
    "def write_report_lines(lines, misssing_attrs, filename):\n",
    "    issues = []\n",
    "    for attr_type, value in misssing_attrs:\n",
    "        issues.append(f\"{prettify_field_name(attr_type)} is {value} but expected value is {EXPECTED_FORMAT[attr_type]}\")\n",
    "    if(issues):\n",
    "        line = f\"filename: {filename} - {', '.join(issues)}\"\n",
    "        lines.append(line)"
   ]
  },
  {
   "cell_type": "code",
   "execution_count": 7,
   "id": "f717fedd",
   "metadata": {},
   "outputs": [],
   "source": [
    "filenames = [f\"{IN_FOLDER}/Cosmos_War_of_the_Planets.mp4\",\n",
    "        f\"{IN_FOLDER}/Last_man_on_earth_1964.mov\",\n",
    "        f\"{IN_FOLDER}/The_Gun_and_the_Pulpit.avi\",\n",
    "        f\"{IN_FOLDER}/The_Hill_Gang_Rides_Again.mp4\",\n",
    "        f\"{IN_FOLDER}/Voyage_to_the_Planet_of_Prehistoric_Women.mp4\"]"
   ]
  },
  {
   "cell_type": "code",
   "execution_count": 8,
   "id": "7cf3b619",
   "metadata": {},
   "outputs": [],
   "source": [
    "def generate_report(filenames):\n",
    "    lines = []\n",
    "    changes_per_file = []\n",
    "    for file_path in filenames:\n",
    "        result = probe_file(file_path)\n",
    "        video_format = parse_probe(result)\n",
    "        misssing_attrs = compare_attrs(video_format, EXPECTED_FORMAT)\n",
    "        changes_per_file.append((file_path, misssing_attrs))\n",
    "        write_report_lines(lines, misssing_attrs, file_path)\n",
    "    if(not lines):\n",
    "        lines.append(\"All video files have expected format\")\n",
    "    return lines, changes_per_file"
   ]
  },
  {
   "cell_type": "code",
   "execution_count": 9,
   "id": "4a246c0f",
   "metadata": {},
   "outputs": [
    {
     "name": "stdout",
     "output_type": "stream",
     "text": [
      "ffprobe -print_format json -show_streams -show_format -pretty -loglevel quiet input_files/Cosmos_War_of_the_Planets.mp4\n",
      "ffprobe -print_format json -show_streams -show_format -pretty -loglevel quiet input_files/Last_man_on_earth_1964.mov\n",
      "ffprobe -print_format json -show_streams -show_format -pretty -loglevel quiet input_files/The_Gun_and_the_Pulpit.avi\n",
      "ffprobe -print_format json -show_streams -show_format -pretty -loglevel quiet input_files/The_Hill_Gang_Rides_Again.mp4\n",
      "ffprobe -print_format json -show_streams -show_format -pretty -loglevel quiet input_files/Voyage_to_the_Planet_of_Prehistoric_Women.mp4\n"
     ]
    }
   ],
   "source": [
    "report_lines, changes_per_file = generate_report(filenames)"
   ]
  },
  {
   "cell_type": "markdown",
   "id": "b2a83aaa",
   "metadata": {},
   "source": [
    "# Write report to txt file"
   ]
  },
  {
   "cell_type": "code",
   "execution_count": 10,
   "id": "72149581",
   "metadata": {},
   "outputs": [],
   "source": [
    "report_file_path = f\"{OUT_FOLDER}/report.txt\"\n",
    "\n",
    "with open(report_file_path, 'w') as f:\n",
    "     for line in report_lines:\n",
    "        f.write(f\"{line}\\n\\n\\n\")"
   ]
  },
  {
   "cell_type": "markdown",
   "id": "12af0cd7",
   "metadata": {},
   "source": [
    "# convert videos to expected format"
   ]
  },
  {
   "cell_type": "markdown",
   "id": "d1afec65",
   "metadata": {},
   "source": [
    "-pix_fmt yuv420p:\n",
    "https://trac.ffmpeg.org/wiki/Encode/H.264#Encodingfordumbplayers"
   ]
  },
  {
   "cell_type": "code",
   "execution_count": 11,
   "id": "f27d7254",
   "metadata": {},
   "outputs": [],
   "source": [
    "def ffmpeg_file(filename, transformations, output_folder):\n",
    "    changes = []\n",
    "    current_extension = filename.split(\".\")[-1]\n",
    "    output_filename = filename.replace(current_extension, EXPECTED_FORMAT[\"container_short_name\"])\n",
    "    output_filename = output_filename.split(\"/\")[-1]\n",
    "    output_filename = f\"{output_folder}/{output_filename}\"\n",
    "    for key, value in transformations:\n",
    "        if(key==\"frame_rate\"):\n",
    "            changes.append(\"-filter:v\")\n",
    "            changes.append(f\"fps=fps={EXPECTED_FORMAT[key]}\")\n",
    "        if(key==\"video_codec\"):\n",
    "            changes.append(\"-c:v\")\n",
    "            changes.append(EXPECTED_FORMAT[key])\n",
    "        if(key==\"audio_codec\"):\n",
    "            changes.append(\"-c:a\")\n",
    "            changes.append(EXPECTED_FORMAT[key])\n",
    "        if(key in [\"resolution_width\", \"resolution_height\"]):\n",
    "            expected_size = f\"{EXPECTED_FORMAT['resolution_width']}x{EXPECTED_FORMAT['resolution_height']}\"\n",
    "            changes.append(\"-s\")\n",
    "            changes.append(expected_size)\n",
    "        if(key == \"audio_br_max_kbs\"):\n",
    "            changes.append(\"-b:a\")\n",
    "            changes.append(f\"{EXPECTED_FORMAT[key]}k\")\n",
    "        if(key in [\"video_br_max_mbs\", \"video_br_min_mbs\"]):\n",
    "            changes.append(\"-b:v\")\n",
    "            changes.append(f\"{EXPECTED_FORMAT[key]}M\")\n",
    "        if(key == \"audio_channels\"):\n",
    "            changes.append(\"-ac\")\n",
    "            changes.append(f\"{EXPECTED_FORMAT[key]}\")\n",
    "    cmd = ['ffmpeg', \"-i\", filename]\n",
    "    cmd.extend(changes)\n",
    "    cmd.extend([\"-y\", \"-pix_fmt\", \"yuv420p\", output_filename])\n",
    "    print(\" \".join(cmd)) \n",
    "    p = subprocess.Popen(cmd, stdout=subprocess.PIPE, stderr=subprocess.PIPE)\n",
    "    out, err = p.communicate()\n",
    "    return output_filename"
   ]
  },
  {
   "cell_type": "code",
   "execution_count": 12,
   "id": "af3fc24c",
   "metadata": {},
   "outputs": [
    {
     "name": "stdout",
     "output_type": "stream",
     "text": [
      "ffmpeg -i input_files/Cosmos_War_of_the_Planets.mp4 -b:v 5M -y output_files/Cosmos_War_of_the_Planets.mp4\n",
      "ffmpeg -i input_files/Last_man_on_earth_1964.mov -b:v 5M -y output_files/Last_man_on_earth_1964.mp4\n",
      "ffmpeg -i input_files/The_Gun_and_the_Pulpit.avi -b:v 5M -y output_files/The_Gun_and_the_Pulpit.mp4\n",
      "ffmpeg -i input_files/The_Hill_Gang_Rides_Again.mp4 -b:v 5M -y output_files/The_Hill_Gang_Rides_Again.mp4\n",
      "ffmpeg -i input_files/Voyage_to_the_Planet_of_Prehistoric_Women.mp4 -b:v 5M -y output_files/Voyage_to_the_Planet_of_Prehistoric_Women.mp4\n"
     ]
    }
   ],
   "source": [
    "output_filenames = []\n",
    "for filename, changes in changes_per_file:\n",
    "    output_filename = ffmpeg_file(filename, changes, OUT_FOLDER)\n",
    "    output_filenames.append(output_filename)"
   ]
  },
  {
   "cell_type": "markdown",
   "id": "19257b28",
   "metadata": {},
   "source": [
    "# Run report again on output files to validate all generated videos have required format"
   ]
  },
  {
   "cell_type": "code",
   "execution_count": 13,
   "id": "8d1395b5",
   "metadata": {},
   "outputs": [
    {
     "name": "stdout",
     "output_type": "stream",
     "text": [
      "ffprobe -print_format json -show_streams -show_format -pretty -loglevel quiet output_files/Cosmos_War_of_the_Planets.mp4\n",
      "ffprobe -print_format json -show_streams -show_format -pretty -loglevel quiet output_files/Last_man_on_earth_1964.mp4\n",
      "ffprobe -print_format json -show_streams -show_format -pretty -loglevel quiet output_files/The_Gun_and_the_Pulpit.mp4\n",
      "ffprobe -print_format json -show_streams -show_format -pretty -loglevel quiet output_files/The_Hill_Gang_Rides_Again.mp4\n",
      "ffprobe -print_format json -show_streams -show_format -pretty -loglevel quiet output_files/Voyage_to_the_Planet_of_Prehistoric_Women.mp4\n"
     ]
    },
    {
     "data": {
      "text/plain": [
       "['filename: output_files/Cosmos_War_of_the_Planets.mp4 - container is isom but expected value is mp42, max video bitrate is 444.536 but expected value is 5',\n",
       " 'filename: output_files/Last_man_on_earth_1964.mp4 - container is isom but expected value is mp42, max video bitrate is 444.536 but expected value is 5',\n",
       " 'filename: output_files/The_Gun_and_the_Pulpit.mp4 - container is isom but expected value is mp42, max video bitrate is 444.536 but expected value is 5',\n",
       " 'filename: output_files/The_Hill_Gang_Rides_Again.mp4 - container is isom but expected value is mp42, max video bitrate is 444.536 but expected value is 5',\n",
       " 'filename: output_files/Voyage_to_the_Planet_of_Prehistoric_Women.mp4 - container is isom but expected value is mp42, max video bitrate is 444.536 but expected value is 5']"
      ]
     },
     "execution_count": 13,
     "metadata": {},
     "output_type": "execute_result"
    }
   ],
   "source": [
    "report_lines, _ = generate_report(output_filenames)\n",
    "report_lines"
   ]
  },
  {
   "cell_type": "code",
   "execution_count": 14,
   "id": "41aaa676",
   "metadata": {},
   "outputs": [
    {
     "name": "stdout",
     "output_type": "stream",
     "text": [
      "ffmpeg version 5.1.2-tessus Copyright (c) 2000-2022 the FFmpeg developers\n",
      "  built with Apple clang version 11.0.0 (clang-1100.0.33.17)\n",
      "  configuration: --cc=/usr/bin/clang --prefix=/opt/ffmpeg --extra-version=tessus --enable-avisynth --enable-fontconfig --enable-gpl --enable-libaom --enable-libass --enable-libbluray --enable-libdav1d --enable-libfreetype --enable-libgsm --enable-libmodplug --enable-libmp3lame --enable-libmysofa --enable-libopencore-amrnb --enable-libopencore-amrwb --enable-libopenh264 --enable-libopenjpeg --enable-libopus --enable-librubberband --enable-libshine --enable-libsnappy --enable-libsoxr --enable-libspeex --enable-libtheora --enable-libtwolame --enable-libvidstab --enable-libvmaf --enable-libvo-amrwbenc --enable-libvorbis --enable-libvpx --enable-libwebp --enable-libx264 --enable-libx265 --enable-libxavs --enable-libxvid --enable-libzimg --enable-libzmq --enable-libzvbi --enable-version3 --pkg-config-flags=--static --disable-ffplay\n",
      "  libavutil      57. 28.100 / 57. 28.100\n",
      "  libavcodec     59. 37.100 / 59. 37.100\n",
      "  libavformat    59. 27.100 / 59. 27.100\n",
      "  libavdevice    59.  7.100 / 59.  7.100\n",
      "  libavfilter     8. 44.100 /  8. 44.100\n",
      "  libswscale      6.  7.100 /  6.  7.100\n",
      "  libswresample   4.  7.100 /  4.  7.100\n",
      "  libpostproc    56.  6.100 / 56.  6.100\n",
      "\u001b[0;33mTrailing option(s) found in the command: may be ignored.\n",
      "\u001b[0mInput #0, mov,mp4,m4a,3gp,3g2,mj2, from 'input_files/Voyage_to_the_Planet_of_Prehistoric_Women.mp4':\n",
      "  Metadata:\n",
      "    major_brand     : mp42\n",
      "    minor_version   : 0\n",
      "    compatible_brands: mp42mp41\n",
      "    creation_time   : 2021-08-02T19:26:10.000000Z\n",
      "  Duration: 00:00:20.09, start: 0.000000, bitrate: 8337 kb/s\n",
      "  Stream #0:0[0x1](eng): Video: hevc (Main) (hvc1 / 0x31637668), yuv420p(tv, bt709), 640x360 [SAR 1:1 DAR 16:9], 8038 kb/s, 29.97 fps, 29.97 tbr, 30k tbn (default)\n",
      "    Metadata:\n",
      "      creation_time   : 2021-08-02T19:26:10.000000Z\n",
      "      handler_name    : ?Mainconcept Video Media Handler\n",
      "      vendor_id       : [0][0][0][0]\n",
      "      encoder         : HEVC Coding\n",
      "  Stream #0:1[0x2](eng): Audio: mp3 (mp4a / 0x6134706D), 48000 Hz, stereo, fltp, 320 kb/s (default)\n",
      "    Metadata:\n",
      "      creation_time   : 2021-08-02T19:26:10.000000Z\n",
      "      handler_name    : #Mainconcept MP4 Sound Media Handler\n",
      "      vendor_id       : [0][0][0][0]\n",
      "Stream mapping:\n",
      "  Stream #0:0 -> #0:0 (hevc (native) -> h264 (libx264))\n",
      "  Stream #0:1 -> #0:1 (mp3 (mp3float) -> aac (native))\n",
      "Press [q] to stop, [?] for help\n",
      "\u001b[1;36m[libx264 @ 0x7f898070d0c0] \u001b[0musing SAR=1/1\n",
      "\u001b[1;36m[libx264 @ 0x7f898070d0c0] \u001b[0musing cpu capabilities: MMX2 SSE2Fast SSSE3 SSE4.2 AVX FMA3 BMI2 AVX2\n",
      "\u001b[1;36m[libx264 @ 0x7f898070d0c0] \u001b[0mprofile High, level 3.0, 4:2:0, 8-bit\n",
      "\u001b[1;36m[libx264 @ 0x7f898070d0c0] \u001b[0m264 - core 164 r3099 e067ab0 - H.264/MPEG-4 AVC codec - Copyleft 2003-2022 - http://www.videolan.org/x264.html - options: cabac=1 ref=3 deblock=1:0:0 analyse=0x3:0x113 me=hex subme=7 psy=1 psy_rd=1.00:0.00 mixed_ref=1 me_range=16 chroma_me=1 trellis=1 8x8dct=1 cqm=0 deadzone=21,11 fast_pskip=1 chroma_qp_offset=-2 threads=11 lookahead_threads=1 sliced_threads=0 nr=0 decimate=1 interlaced=0 bluray_compat=0 constrained_intra=0 bframes=3 b_pyramid=2 b_adapt=1 b_bias=0 direct=1 weightb=1 open_gop=0 weightp=2 keyint=250 keyint_min=25 scenecut=40 intra_refresh=0 rc_lookahead=40 rc=crf mbtree=1 crf=23.0 qcomp=0.60 qpmin=0 qpmax=69 qpstep=4 ip_ratio=1.40 aq=1:1.00\n",
      "Output #0, mp4, to 'output_files/Voyage_to_the_Planet_of_Prehistoric_Women.mp4':\n",
      "  Metadata:\n",
      "    major_brand     : mp42\n",
      "    minor_version   : 0\n",
      "    compatible_brands: mp42mp41\n",
      "    encoder         : Lavf59.27.100\n",
      "  Stream #0:0(eng): Video: h264 (avc1 / 0x31637661), yuv420p(tv, bt709, progressive), 640x360 [SAR 1:1 DAR 16:9], q=2-31, 25 fps, 12800 tbn (default)\n",
      "    Metadata:\n",
      "      creation_time   : 2021-08-02T19:26:10.000000Z\n",
      "      handler_name    : ?Mainconcept Video Media Handler\n",
      "      vendor_id       : [0][0][0][0]\n",
      "      encoder         : Lavc59.37.100 libx264\n",
      "    Side data:\n",
      "      cpb: bitrate max/min/avg: 0/0/0 buffer size: 0 vbv_delay: N/A\n",
      "  Stream #0:1(eng): Audio: aac (LC) (mp4a / 0x6134706D), 48000 Hz, stereo, fltp, 128 kb/s (default)\n",
      "    Metadata:\n",
      "      creation_time   : 2021-08-02T19:26:10.000000Z\n",
      "      handler_name    : #Mainconcept MP4 Sound Media Handler\n",
      "      vendor_id       : [0][0][0][0]\n",
      "      encoder         : Lavc59.37.100 aac\n",
      "frame=  501 fps=313 q=-1.0 Lsize=    1418kB time=00:00:20.05 bitrate= 579.2kbits/s speed=12.5x    \n",
      "video:1087kB audio:314kB subtitle:0kB other streams:0kB global headers:0kB muxing overhead: 1.168248%\n",
      "\u001b[1;36m[libx264 @ 0x7f898070d0c0] \u001b[0mframe I:5     Avg QP:18.35  size: 12782\n",
      "\u001b[1;36m[libx264 @ 0x7f898070d0c0] \u001b[0mframe P:134   Avg QP:22.27  size:  4908\n",
      "\u001b[1;36m[libx264 @ 0x7f898070d0c0] \u001b[0mframe B:362   Avg QP:25.76  size:  1081\n",
      "\u001b[1;36m[libx264 @ 0x7f898070d0c0] \u001b[0mconsecutive B-frames:  2.6%  2.4%  2.4% 92.6%\n",
      "\u001b[1;36m[libx264 @ 0x7f898070d0c0] \u001b[0mmb I  I16..4:  6.5% 79.1% 14.4%\n",
      "\u001b[1;36m[libx264 @ 0x7f898070d0c0] \u001b[0mmb P  I16..4:  1.5%  6.4%  0.5%  P16..4: 44.4% 20.2%  8.1%  0.0%  0.0%    skip:18.8%\n",
      "\u001b[1;36m[libx264 @ 0x7f898070d0c0] \u001b[0mmb B  I16..4:  0.1%  0.1%  0.0%  B16..8: 39.7%  4.4%  0.6%  direct: 1.3%  skip:53.8%  L0:45.0% L1:50.3% BI: 4.7%\n",
      "\u001b[1;36m[libx264 @ 0x7f898070d0c0] \u001b[0m8x8 transform intra:76.3% inter:82.6%\n",
      "\u001b[1;36m[libx264 @ 0x7f898070d0c0] \u001b[0mcoded y,uvDC,uvAC intra: 52.1% 74.9% 35.7% inter: 11.4% 23.3% 0.1%\n",
      "\u001b[1;36m[libx264 @ 0x7f898070d0c0] \u001b[0mi16 v,h,dc,p: 36% 17% 12% 35%\n",
      "\u001b[1;36m[libx264 @ 0x7f898070d0c0] \u001b[0mi8 v,h,dc,ddl,ddr,vr,hd,vl,hu: 24% 12% 27%  5%  6%  6%  5%  8%  6%\n",
      "\u001b[1;36m[libx264 @ 0x7f898070d0c0] \u001b[0mi4 v,h,dc,ddl,ddr,vr,hd,vl,hu: 31% 14% 12%  7%  8%  8%  6%  9%  5%\n",
      "\u001b[1;36m[libx264 @ 0x7f898070d0c0] \u001b[0mi8c dc,h,v,p: 51% 14% 23% 12%\n",
      "\u001b[1;36m[libx264 @ 0x7f898070d0c0] \u001b[0mWeighted P-Frames: Y:16.4% UV:8.2%\n",
      "\u001b[1;36m[libx264 @ 0x7f898070d0c0] \u001b[0mref P L0: 61.6% 12.9% 18.8%  5.8%  0.8%\n",
      "\u001b[1;36m[libx264 @ 0x7f898070d0c0] \u001b[0mref B L0: 92.3%  6.6%  1.0%\n",
      "\u001b[1;36m[libx264 @ 0x7f898070d0c0] \u001b[0mref B L1: 97.3%  2.7%\n",
      "\u001b[1;36m[libx264 @ 0x7f898070d0c0] \u001b[0mkb/s:444.26\n",
      "\u001b[1;36m[aac @ 0x7f898070bb80] \u001b[0mQavg: 570.988\n"
     ]
    }
   ],
   "source": [
    "!ffmpeg -i input_files/Voyage_to_the_Planet_of_Prehistoric_Women.mp4 -filter:v fps=fps=25 -s 640x360 -y -pix_fmt yuv420p output_files/Voyage_to_the_Planet_of_Prehistoric_Women.mp4 -b:a 256k\n",
    "        \n",
    "        \n",
    "        "
   ]
  },
  {
   "cell_type": "code",
   "execution_count": 15,
   "id": "88fcb9d0",
   "metadata": {},
   "outputs": [
    {
     "name": "stdout",
     "output_type": "stream",
     "text": [
      "{\r\n",
      "    \"streams\": [\r\n",
      "        {\r\n",
      "            \"index\": 0,\r\n",
      "            \"codec_name\": \"h264\",\r\n",
      "            \"codec_long_name\": \"H.264 / AVC / MPEG-4 AVC / MPEG-4 part 10\",\r\n",
      "            \"profile\": \"High\",\r\n",
      "            \"codec_type\": \"video\",\r\n",
      "            \"codec_tag_string\": \"avc1\",\r\n",
      "            \"codec_tag\": \"0x31637661\",\r\n",
      "            \"width\": 640,\r\n",
      "            \"height\": 360,\r\n",
      "            \"coded_width\": 640,\r\n",
      "            \"coded_height\": 360,\r\n",
      "            \"closed_captions\": 0,\r\n",
      "            \"film_grain\": 0,\r\n",
      "            \"has_b_frames\": 2,\r\n",
      "            \"sample_aspect_ratio\": \"1:1\",\r\n",
      "            \"display_aspect_ratio\": \"16:9\",\r\n",
      "            \"pix_fmt\": \"yuv420p\",\r\n",
      "            \"level\": 30,\r\n",
      "            \"color_range\": \"tv\",\r\n",
      "            \"color_space\": \"bt709\",\r\n",
      "            \"color_transfer\": \"bt709\",\r\n",
      "            \"color_primaries\": \"bt709\",\r\n",
      "            \"chroma_location\": \"left\",\r\n",
      "            \"field_order\": \"progressive\",\r\n",
      "            \"refs\": 1,\r\n",
      "            \"is_avc\": \"true\",\r\n",
      "            \"nal_length_size\": \"4\",\r\n",
      "            \"id\": \"0x1\",\r\n",
      "            \"r_frame_rate\": \"25/1\",\r\n",
      "            \"avg_frame_rate\": \"25/1\",\r\n",
      "            \"time_base\": \"1/12800\",\r\n",
      "            \"start_pts\": 0,\r\n",
      "            \"start_time\": \"0:00:00.000000\",\r\n",
      "            \"duration_ts\": 256512,\r\n",
      "            \"duration\": \"0:00:20.040000\",\r\n",
      "            \"bit_rate\": \"444.536000 Kbit/s\",\r\n",
      "            \"bits_per_raw_sample\": \"8\",\r\n",
      "            \"nb_frames\": \"501\",\r\n",
      "            \"extradata_size\": 51,\r\n",
      "            \"disposition\": {\r\n",
      "                \"default\": 1,\r\n",
      "                \"dub\": 0,\r\n",
      "                \"original\": 0,\r\n",
      "                \"comment\": 0,\r\n",
      "                \"lyrics\": 0,\r\n",
      "                \"karaoke\": 0,\r\n",
      "                \"forced\": 0,\r\n",
      "                \"hearing_impaired\": 0,\r\n",
      "                \"visual_impaired\": 0,\r\n",
      "                \"clean_effects\": 0,\r\n",
      "                \"attached_pic\": 0,\r\n",
      "                \"timed_thumbnails\": 0,\r\n",
      "                \"captions\": 0,\r\n",
      "                \"descriptions\": 0,\r\n",
      "                \"metadata\": 0,\r\n",
      "                \"dependent\": 0,\r\n",
      "                \"still_image\": 0\r\n",
      "            },\r\n",
      "            \"tags\": {\r\n",
      "                \"language\": \"eng\",\r\n",
      "                \"handler_name\": \"\\u001fMainconcept Video Media Handler\",\r\n",
      "                \"vendor_id\": \"[0][0][0][0]\",\r\n",
      "                \"encoder\": \"Lavc59.37.100 libx264\"\r\n",
      "            }\r\n",
      "        },\r\n",
      "        {\r\n",
      "            \"index\": 1,\r\n",
      "            \"codec_name\": \"aac\",\r\n",
      "            \"codec_long_name\": \"AAC (Advanced Audio Coding)\",\r\n",
      "            \"profile\": \"LC\",\r\n",
      "            \"codec_type\": \"audio\",\r\n",
      "            \"codec_tag_string\": \"mp4a\",\r\n",
      "            \"codec_tag\": \"0x6134706d\",\r\n",
      "            \"sample_fmt\": \"fltp\",\r\n",
      "            \"sample_rate\": \"48 KHz\",\r\n",
      "            \"channels\": 2,\r\n",
      "            \"channel_layout\": \"stereo\",\r\n",
      "            \"bits_per_sample\": 0,\r\n",
      "            \"id\": \"0x2\",\r\n",
      "            \"r_frame_rate\": \"0/0\",\r\n",
      "            \"avg_frame_rate\": \"0/0\",\r\n",
      "            \"time_base\": \"1/48000\",\r\n",
      "            \"start_pts\": 0,\r\n",
      "            \"start_time\": \"0:00:00.000000\",\r\n",
      "            \"duration_ts\": 961920,\r\n",
      "            \"duration\": \"0:00:20.040000\",\r\n",
      "            \"bit_rate\": \"128.204000 Kbit/s\",\r\n",
      "            \"nb_frames\": \"941\",\r\n",
      "            \"extradata_size\": 5,\r\n",
      "            \"disposition\": {\r\n",
      "                \"default\": 1,\r\n",
      "                \"dub\": 0,\r\n",
      "                \"original\": 0,\r\n",
      "                \"comment\": 0,\r\n",
      "                \"lyrics\": 0,\r\n",
      "                \"karaoke\": 0,\r\n",
      "                \"forced\": 0,\r\n",
      "                \"hearing_impaired\": 0,\r\n",
      "                \"visual_impaired\": 0,\r\n",
      "                \"clean_effects\": 0,\r\n",
      "                \"attached_pic\": 0,\r\n",
      "                \"timed_thumbnails\": 0,\r\n",
      "                \"captions\": 0,\r\n",
      "                \"descriptions\": 0,\r\n",
      "                \"metadata\": 0,\r\n",
      "                \"dependent\": 0,\r\n",
      "                \"still_image\": 0\r\n",
      "            },\r\n",
      "            \"tags\": {\r\n",
      "                \"language\": \"eng\",\r\n",
      "                \"handler_name\": \"#Mainconcept MP4 Sound Media Handler\",\r\n",
      "                \"vendor_id\": \"[0][0][0][0]\"\r\n",
      "            }\r\n",
      "        }\r\n",
      "    ],\r\n",
      "    \"format\": {\r\n",
      "        \"filename\": \"output_files/Voyage_to_the_Planet_of_Prehistoric_Women.mp4\",\r\n",
      "        \"nb_streams\": 2,\r\n",
      "        \"nb_programs\": 0,\r\n",
      "        \"format_name\": \"mov,mp4,m4a,3gp,3g2,mj2\",\r\n",
      "        \"format_long_name\": \"QuickTime / MOV\",\r\n",
      "        \"start_time\": \"0:00:00.000000\",\r\n",
      "        \"duration\": \"0:00:20.040000\",\r\n",
      "        \"size\": \"1.384563 Mibyte\",\r\n",
      "        \"bit_rate\": \"579.568000 Kbit/s\",\r\n",
      "        \"probe_score\": 100,\r\n",
      "        \"tags\": {\r\n",
      "            \"major_brand\": \"isom\",\r\n",
      "            \"minor_version\": \"512\",\r\n",
      "            \"compatible_brands\": \"isomiso2avc1mp41\",\r\n",
      "            \"encoder\": \"Lavf59.27.100\"\r\n",
      "        }\r\n",
      "    }\r\n",
      "}\r\n"
     ]
    }
   ],
   "source": [
    "!ffprobe -print_format json -show_streams -show_format -pretty -loglevel quiet output_files/Voyage_to_the_Planet_of_Prehistoric_Women.mp4\n",
    "\n",
    "\n"
   ]
  },
  {
   "cell_type": "code",
   "execution_count": null,
   "id": "234ce608",
   "metadata": {},
   "outputs": [],
   "source": []
  }
 ],
 "metadata": {
  "kernelspec": {
   "display_name": "Python [conda env:UOL_sp_final_ex2] *",
   "language": "python",
   "name": "conda-env-UOL_sp_final_ex2-py"
  },
  "language_info": {
   "codemirror_mode": {
    "name": "ipython",
    "version": 3
   },
   "file_extension": ".py",
   "mimetype": "text/x-python",
   "name": "python",
   "nbconvert_exporter": "python",
   "pygments_lexer": "ipython3",
   "version": "3.7.16"
  }
 },
 "nbformat": 4,
 "nbformat_minor": 5
}
