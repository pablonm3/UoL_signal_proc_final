{
 "cells": [
  {
   "cell_type": "markdown",
   "id": "9bacacff",
   "metadata": {},
   "source": [
    "# Data exploration of input videos"
   ]
  },
  {
   "cell_type": "code",
   "execution_count": 8,
   "id": "1e9a1e3a",
   "metadata": {},
   "outputs": [
    {
     "name": "stdout",
     "output_type": "stream",
     "text": [
      "Input #0, mov,mp4,m4a,3gp,3g2,mj2, from 'input_files/Cosmos_War_of_the_Planets.mp4':\r\n",
      "  Metadata:\r\n",
      "    major_brand     : mp42\r\n",
      "    minor_version   : 0\r\n",
      "    compatible_brands: mp42mp41\r\n",
      "    creation_time   : 2021-08-02T19:15:48.000000Z\r\n",
      "  Duration: 00:00:20.05, start: 0.000000, bitrate: 3309 kb/s\r\n",
      "  Stream #0:0[0x1](eng): Video: h264 (Main) (avc1 / 0x31637661), yuv420p(progressive), 628x354 [SAR 1:1 DAR 314:177], 2989 kb/s, 29.97 fps, 29.97 tbr, 30k tbn (default)\r\n",
      "    Metadata:\r\n",
      "      creation_time   : 2021-08-02T19:15:48.000000Z\r\n",
      "      handler_name    : ?Mainconcept Video Media Handler\r\n",
      "      vendor_id       : [0][0][0][0]\r\n",
      "      encoder         : AVC Coding\r\n",
      "  Stream #0:1[0x2](eng): Audio: aac (LC) (mp4a / 0x6134706D), 48000 Hz, stereo, fltp, 317 kb/s (default)\r\n",
      "    Metadata:\r\n",
      "      creation_time   : 2021-08-02T19:15:48.000000Z\r\n",
      "      handler_name    : #Mainconcept MP4 Sound Media Handler\r\n",
      "      vendor_id       : [0][0][0][0]\r\n"
     ]
    }
   ],
   "source": [
    "!ffprobe -hide_banner input_files/Cosmos_War_of_the_Planets.mp4"
   ]
  },
  {
   "cell_type": "code",
   "execution_count": 9,
   "id": "c4b5e41b",
   "metadata": {},
   "outputs": [
    {
     "data": {
      "text/html": [
       "<video src=\"input_files/Cosmos_War_of_the_Planets.mp4\" controls  >\n",
       "      Your browser does not support the <code>video</code> element.\n",
       "    </video>"
      ],
      "text/plain": [
       "<IPython.core.display.Video object>"
      ]
     },
     "execution_count": 9,
     "metadata": {},
     "output_type": "execute_result"
    }
   ],
   "source": [
    "from IPython.display import Video\n",
    "Video(\"input_files/Cosmos_War_of_the_Planets.mp4\")"
   ]
  },
  {
   "cell_type": "markdown",
   "id": "1522daec",
   "metadata": {},
   "source": [
    "# Video analysis and report generation "
   ]
  },
  {
   "cell_type": "code",
   "execution_count": 157,
   "id": "9649a585",
   "metadata": {},
   "outputs": [],
   "source": [
    "EXPECTED_FORMAT = {\n",
    "    \"container\": \"mp42\",\n",
    "    \"video_codec\": \"h264\",\n",
    "    \"audio_codec\": \"aac\",\n",
    "    \"frame_rate\": 25,\n",
    "    \"aspect_ratio\": \"16:9\",\n",
    "    \"resolution_width\": 640,\n",
    "    \"resolution_height\": 360, \n",
    "    \"video_br_min_mbs\": 2,\n",
    "    \"video_br_max_mbs\": 5, \n",
    "    \"audio_br_max_kbs\": 256,\n",
    "    \"audio_channels\": 2\n",
    "}"
   ]
  },
  {
   "cell_type": "code",
   "execution_count": 194,
   "id": "f77923f0",
   "metadata": {},
   "outputs": [],
   "source": [
    "INPUT_FILE = \"Cosmos_War_of_the_Planets.mp4\"\n",
    "IN_FOLDER = \"input_files\"\n",
    "OUT_FOLDER = \"output_files\"\n",
    "\n",
    "VIDEO_FILENAME = \"input_files/Cosmos_War_of_the_Planets.mp4\"\n",
    "VIDEO_FILENAME = \"input_files/Last_man_on_earth_1964.mov\"\n",
    "VIDEO_FILENAME = \"input_files/The_Gun_and_the_Pulpit.avi\"\n",
    "VIDEO_FILENAME = \"input_files/The_Hill_Gang_Rides_Again.mp4\"\n",
    "VIDEO_FILENAME = \"input_files/Voyage_to_the_Planet_of_Prehistoric_Women.mp4\""
   ]
  },
  {
   "cell_type": "markdown",
   "id": "2054e3dc",
   "metadata": {},
   "source": [
    "Function that runs ffprobe command inside python and returns its output inspired by: https://stackoverflow.com/a/9896732"
   ]
  },
  {
   "cell_type": "code",
   "execution_count": 170,
   "id": "cfb12d5e",
   "metadata": {},
   "outputs": [
    {
     "data": {
      "text/plain": [
       "[('video_codec', 'hevc'),\n",
       " ('audio_codec', 'mp3'),\n",
       " ('frame_rate', 29.97002997002997),\n",
       " ('video_br_max_mbs', 8.038857),\n",
       " ('audio_br_max_kbs', 320.0)]"
      ]
     },
     "execution_count": 170,
     "metadata": {},
     "output_type": "execute_result"
    }
   ],
   "source": [
    "import os, sys, subprocess, shlex, re\n",
    "import json\n",
    "from subprocess import call\n",
    "from fractions import Fraction\n",
    "\n",
    "def probe_file(filename):\n",
    "    cmnd = ['ffprobe', \"-print_format\", \"json\", \"-show_streams\", '-show_format', '-pretty', '-loglevel', 'quiet', filename]\n",
    "    p = subprocess.Popen(cmnd, stdout=subprocess.PIPE, stderr=subprocess.PIPE)\n",
    "    out, err =  p.communicate()\n",
    "    if err:\n",
    "        print (\"========= error ========\")\n",
    "        print(err)\n",
    "        raise Exception(err)\n",
    "    return json.loads(out)\n",
    "\n",
    "def calc_ar(w, h):\n",
    "    fr = Fraction(w,h)\n",
    "    num = fr.numerator\n",
    "    denom = fr.denominator\n",
    "    return f\"{num}:{denom}\"\n",
    "\n",
    "def parse_probe(probe_r):\n",
    "    # TODO: EXTRACT NEEDED INFO FROM FFPROBE OUTPUT HERE\n",
    "    r = {}\n",
    "    video_info = extract_stream_info(result, \"video\")\n",
    "    audio_info = extract_stream_info(result, \"audio\")\n",
    "    r[\"container\"] = probe_r[\"format\"][\"tags\"][\"major_brand\"] if \"tags\" in probe_r[\"format\"] else probe_r[\"format\"][\"format_name\"]\n",
    "    r[\"video_codec\"] = video_info[\"codec_name\"]\n",
    "    r[\"audio_codec\"] = audio_info[\"codec_name\"]\n",
    "    if \"/\" in video_info[\"avg_frame_rate\"]:\n",
    "        num, denom = video_info[\"avg_frame_rate\"].split(\"/\")\n",
    "        fr = int(num) / int(denom)\n",
    "    else:\n",
    "        fr = int(video_info[\"avg_frame_rate\"])\n",
    "    r[\"frame_rate\"] = fr\n",
    "    \n",
    "    r[\"aspect_ratio\"] = video_info[\"display_aspect_ratio\"] if \"display_aspect_ratio\" in video_info else calc_ar(video_info[\"width\"], video_info[\"height\"])\n",
    "    r[\"resolution_width\"] = video_info[\"width\"]\n",
    "    r[\"resolution_height\"] = video_info[\"height\"]\n",
    "    r[\"video_br_mbs\"] = video_info[\"bit_rate\"]\n",
    "    r[\"audio_br_kbs\"] = audio_info[\"bit_rate\"]\n",
    "    \n",
    "    r[\"audio_channels\"]= audio_info[\"channels\"]\n",
    "    return r\n",
    "\n",
    "def compare_attrs(video_format, expected_format):\n",
    "    problematic_fields = []\n",
    "    #FIXME video_format[\"container\"] is the codec not the container. how do I get the container?\n",
    "    if(video_format[\"container\"] != expected_format[\"container\"]):\n",
    "        problematic_fields.append((\"container\", video_format[\"container\"]))\n",
    "    if(video_format[\"video_codec\"] != expected_format[\"video_codec\"]):\n",
    "        problematic_fields.append((\"video_codec\", video_format[\"video_codec\"]))\n",
    "    if(video_format[\"audio_codec\"] != expected_format[\"audio_codec\"]):\n",
    "        problematic_fields.append((\"audio_codec\", video_format[\"audio_codec\"]))\n",
    "    if(video_format[\"frame_rate\"] != expected_format[\"frame_rate\"]):\n",
    "        problematic_fields.append((\"frame_rate\", video_format[\"frame_rate\"]))\n",
    "    if(video_format[\"aspect_ratio\"] != expected_format[\"aspect_ratio\"]):\n",
    "        problematic_fields.append((\"aspect_ratio\", video_format[\"aspect_ratio\"]))\n",
    "    if(video_format[\"resolution_width\"] != expected_format[\"resolution_width\"]):\n",
    "        problematic_fields.append((\"resolution_width\", video_format[\"resolution_width\"]))\n",
    "    if(video_format[\"resolution_height\"] != expected_format[\"resolution_height\"]):\n",
    "        problematic_fields.append((\"resolution_height\", video_format[\"resolution_height\"]))\n",
    "    video_br_min_mbs = expected_format[\"video_br_min_mbs\"]\n",
    "    video_br_max_mbs = expected_format[\"video_br_max_mbs\"]\n",
    "    video_br_mbs = float(video_format[\"video_br_mbs\"].split()[0])\n",
    "    if(video_br_mbs < video_br_min_mbs):\n",
    "        problematic_fields.append((\"video_br_min_mbs\", video_br_mbs))\n",
    "    if(video_br_mbs > video_br_max_mbs):\n",
    "        problematic_fields.append((\"video_br_max_mbs\", video_br_mbs))\n",
    "    audio_br_kbs = float(video_format[\"audio_br_kbs\"].split()[0])\n",
    "    if(audio_br_kbs > expected_format[\"audio_br_max_kbs\"]):\n",
    "        problematic_fields.append((\"audio_br_max_kbs\", audio_br_kbs))\n",
    "    if(video_format[\"audio_channels\"] != expected_format[\"audio_channels\"]):\n",
    "        problematic_fields.append((\"audio_channels\", video_format[\"audio_channels\"]))\n",
    "    return problematic_fields\n",
    "    \n",
    "def extract_stream_info(result, codec_type):\n",
    "    for stream in result[\"streams\"]:\n",
    "        if(stream[\"codec_type\"] == codec_type):\n",
    "            return stream\n",
    "    return None\n",
    "    \n",
    "    \n",
    "result = probe_file(VIDEO_FILENAME)\n",
    "video_format = parse_probe(result)\n",
    "misssing_attrs = compare_attrs(video_format, EXPECTED_FORMAT)\n",
    "misssing_attrs"
   ]
  },
  {
   "cell_type": "code",
   "execution_count": 189,
   "id": "ca0d0e94",
   "metadata": {},
   "outputs": [],
   "source": [
    "\n",
    "def prettify_field_name(field_name):\n",
    "    FIELD_CONVERSION_MAP = {\n",
    "        \"video_br_min_mbs\": \"min video bitrate\",\n",
    "        \"video_br_max_mbs\": \"max video bitrate\", \n",
    "        \"audio_br_max_kbs\": \"max audio bitrate\",\n",
    "    }\n",
    "    print(\"field_name: \", field_name)\n",
    "    if field_name in FIELD_CONVERSION_MAP:\n",
    "        return FIELD_CONVERSION_MAP[field_name]\n",
    "    return field_name\n",
    "\n",
    "def write_report_lines(lines, misssing_attrs, filename):\n",
    "    issues = []\n",
    "    for attr_type, value in misssing_attrs:\n",
    "        issues.append(f\"{prettify_field_name(attr_type)} is {value} but expected value is {EXPECTED_FORMAT[attr_type]}\")\n",
    "    if(issues):\n",
    "        line = f\"filename: {filename} - {', '.join(issues)}\"\n",
    "        lines.append(line)"
   ]
  },
  {
   "cell_type": "code",
   "execution_count": 187,
   "id": "899f65ee",
   "metadata": {},
   "outputs": [],
   "source": [
    "files = [\"Cosmos_War_of_the_Planets.mp4\",\n",
    "        \"Last_man_on_earth_1964.mov\",\n",
    "        \"The_Gun_and_the_Pulpit.avi\",\n",
    "        \"The_Hill_Gang_Rides_Again.mp4\",\n",
    "        \"Voyage_to_the_Planet_of_Prehistoric_Women.mp4\"]"
   ]
  },
  {
   "cell_type": "code",
   "execution_count": 192,
   "id": "9fa154d0",
   "metadata": {},
   "outputs": [
    {
     "name": "stdout",
     "output_type": "stream",
     "text": [
      "field_name:  frame_rate\n",
      "field_name:  aspect_ratio\n",
      "field_name:  resolution_width\n",
      "field_name:  resolution_height\n",
      "field_name:  audio_br_max_kbs\n",
      "field_name:  container\n",
      "field_name:  video_codec\n",
      "field_name:  audio_codec\n",
      "field_name:  frame_rate\n",
      "field_name:  video_br_max_mbs\n",
      "field_name:  container\n",
      "field_name:  video_codec\n",
      "field_name:  audio_codec\n",
      "field_name:  aspect_ratio\n",
      "field_name:  resolution_width\n",
      "field_name:  resolution_height\n",
      "field_name:  video_br_max_mbs\n",
      "field_name:  video_br_max_mbs\n",
      "field_name:  video_codec\n",
      "field_name:  audio_codec\n",
      "field_name:  frame_rate\n",
      "field_name:  video_br_max_mbs\n",
      "field_name:  audio_br_max_kbs\n"
     ]
    }
   ],
   "source": [
    "\n",
    "lines = []\n",
    "for file in files:\n",
    "    file_path = f\"{IN_FOLDER}/{file}\"\n",
    "    result = probe_file(file_path)\n",
    "    video_format = parse_probe(result)\n",
    "    misssing_attrs = compare_attrs(video_format, EXPECTED_FORMAT)\n",
    "    write_report_lines(lines, misssing_attrs, file_path)\n",
    "if(not lines):\n",
    "    lines.append(\"All video files have expected format\")"
   ]
  },
  {
   "cell_type": "markdown",
   "id": "47b1aabc",
   "metadata": {},
   "source": [
    "# Write report to txt file"
   ]
  },
  {
   "cell_type": "code",
   "execution_count": 198,
   "id": "8d6ff5d2",
   "metadata": {},
   "outputs": [],
   "source": [
    "report_file_path = f\"{OUT_FOLDER}/report.txt\"\n",
    "\n",
    "with open(report_file_path, 'w') as f:\n",
    "     for line in lines:\n",
    "        f.write(f\"{line}\\n\\n\\n\")"
   ]
  },
  {
   "cell_type": "markdown",
   "id": "60196479",
   "metadata": {},
   "source": [
    "# convert videos to expected format"
   ]
  },
  {
   "cell_type": "code",
   "execution_count": null,
   "id": "ef7be41b",
   "metadata": {},
   "outputs": [],
   "source": []
  }
 ],
 "metadata": {
  "kernelspec": {
   "display_name": "Python [conda env:UOL_sp_final_ex2] *",
   "language": "python",
   "name": "conda-env-UOL_sp_final_ex2-py"
  },
  "language_info": {
   "codemirror_mode": {
    "name": "ipython",
    "version": 3
   },
   "file_extension": ".py",
   "mimetype": "text/x-python",
   "name": "python",
   "nbconvert_exporter": "python",
   "pygments_lexer": "ipython3",
   "version": "3.7.16"
  }
 },
 "nbformat": 4,
 "nbformat_minor": 5
}
