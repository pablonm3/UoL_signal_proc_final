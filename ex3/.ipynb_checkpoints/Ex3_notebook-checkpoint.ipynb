{
 "cells": [
  {
   "cell_type": "markdown",
   "id": "250a51de",
   "metadata": {},
   "source": [
    "# Data exploration of input videos"
   ]
  },
  {
   "cell_type": "code",
   "execution_count": 8,
   "id": "53255f61",
   "metadata": {},
   "outputs": [
    {
     "name": "stdout",
     "output_type": "stream",
     "text": [
      "Input #0, mov,mp4,m4a,3gp,3g2,mj2, from 'input_files/Cosmos_War_of_the_Planets.mp4':\r\n",
      "  Metadata:\r\n",
      "    major_brand     : mp42\r\n",
      "    minor_version   : 0\r\n",
      "    compatible_brands: mp42mp41\r\n",
      "    creation_time   : 2021-08-02T19:15:48.000000Z\r\n",
      "  Duration: 00:00:20.05, start: 0.000000, bitrate: 3309 kb/s\r\n",
      "  Stream #0:0[0x1](eng): Video: h264 (Main) (avc1 / 0x31637661), yuv420p(progressive), 628x354 [SAR 1:1 DAR 314:177], 2989 kb/s, 29.97 fps, 29.97 tbr, 30k tbn (default)\r\n",
      "    Metadata:\r\n",
      "      creation_time   : 2021-08-02T19:15:48.000000Z\r\n",
      "      handler_name    : ?Mainconcept Video Media Handler\r\n",
      "      vendor_id       : [0][0][0][0]\r\n",
      "      encoder         : AVC Coding\r\n",
      "  Stream #0:1[0x2](eng): Audio: aac (LC) (mp4a / 0x6134706D), 48000 Hz, stereo, fltp, 317 kb/s (default)\r\n",
      "    Metadata:\r\n",
      "      creation_time   : 2021-08-02T19:15:48.000000Z\r\n",
      "      handler_name    : #Mainconcept MP4 Sound Media Handler\r\n",
      "      vendor_id       : [0][0][0][0]\r\n"
     ]
    }
   ],
   "source": [
    "!ffprobe -hide_banner input_files/Cosmos_War_of_the_Planets.mp4"
   ]
  },
  {
   "cell_type": "code",
   "execution_count": 9,
   "id": "aed9de36",
   "metadata": {},
   "outputs": [
    {
     "data": {
      "text/html": [
       "<video src=\"input_files/Cosmos_War_of_the_Planets.mp4\" controls  >\n",
       "      Your browser does not support the <code>video</code> element.\n",
       "    </video>"
      ],
      "text/plain": [
       "<IPython.core.display.Video object>"
      ]
     },
     "execution_count": 9,
     "metadata": {},
     "output_type": "execute_result"
    }
   ],
   "source": [
    "from IPython.display import Video\n",
    "Video(\"input_files/Cosmos_War_of_the_Planets.mp4\")"
   ]
  },
  {
   "cell_type": "markdown",
   "id": "b41a32a5",
   "metadata": {},
   "source": [
    "# Video analysis and report generation "
   ]
  },
  {
   "cell_type": "code",
   "execution_count": 10,
   "id": "3195c083",
   "metadata": {},
   "outputs": [],
   "source": [
    "EXPECTED_FORMAT = {\n",
    "    \"container\": \"mp4\",\n",
    "    \"video_codec\": \"h.264\",\n",
    "    \"audio_codec\": \"aac\",\n",
    "    \"frame_rate\": \"25\",\n",
    "    \"aspect_ratio\": \"16:9\",\n",
    "    \"resolution\": \"640x360\",\n",
    "    \"video_br\": \"2 – 5 Mb/s\",\n",
    "    \"audio_br\": \"up to 256 kb/s\",\n",
    "    \"audio_channels\": \"stereo\"\n",
    "}"
   ]
  },
  {
   "cell_type": "code",
   "execution_count": 12,
   "id": "916cf1bc",
   "metadata": {},
   "outputs": [],
   "source": [
    "VIDEO_FILENAME = \"input_files/Cosmos_War_of_the_Planets.mp4\""
   ]
  },
  {
   "cell_type": "code",
   "execution_count": 14,
   "id": "2fbf79bb",
   "metadata": {},
   "outputs": [
    {
     "name": "stdout",
     "output_type": "stream",
     "text": [
      "\u001b[1;31mVIDEO_FILENAME: No such file or directory\r\n",
      "\u001b[0m"
     ]
    }
   ],
   "source": [
    "!ffprobe -hide_banner VIDEO_FILENAME"
   ]
  },
  {
   "cell_type": "markdown",
   "id": "3e3cbaaf",
   "metadata": {},
   "source": [
    "Function that runs ffprobe command inside python and returns its output inspired by: https://stackoverflow.com/a/9896732"
   ]
  },
  {
   "cell_type": "code",
   "execution_count": 24,
   "id": "883a5eb4",
   "metadata": {},
   "outputs": [],
   "source": [
    "import os, sys, subprocess, shlex, re\n",
    "import json\n",
    "from subprocess import call\n",
    "\n",
    "def probe_file(filename):\n",
    "    cmnd = ['ffprobe', \"-print_format\", \"json\", '-show_format', '-pretty', '-loglevel', 'quiet', filename]\n",
    "    p = subprocess.Popen(cmnd, stdout=subprocess.PIPE, stderr=subprocess.PIPE)\n",
    "    out, err =  p.communicate()\n",
    "    if err:\n",
    "        print (\"========= error ========\")\n",
    "        print(err)\n",
    "        raise Exception(err)\n",
    "    return json.loads(out)\n",
    "\n",
    "def parse_probe(probe_r):\n",
    "    # TODO: EXTRACT NEEDED INFO FROM FFPROBE OUTPUT HERE\n",
    "    r = {}\n",
    "    return r\n",
    "\n",
    "result = probe_file(VIDEO_FILENAME)\n",
    "video_format = parse_probe(result)"
   ]
  },
  {
   "cell_type": "code",
   "execution_count": 25,
   "id": "366a53cd",
   "metadata": {},
   "outputs": [
    {
     "data": {
      "text/plain": [
       "{'format': {'filename': 'input_files/Cosmos_War_of_the_Planets.mp4',\n",
       "  'nb_streams': 2,\n",
       "  'nb_programs': 0,\n",
       "  'format_name': 'mov,mp4,m4a,3gp,3g2,mj2',\n",
       "  'format_long_name': 'QuickTime / MOV',\n",
       "  'start_time': '0:00:00.000000',\n",
       "  'duration': '0:00:20.053333',\n",
       "  'size': '7.911813 Mibyte',\n",
       "  'bit_rate': '3.309629 Mbit/s',\n",
       "  'probe_score': 100,\n",
       "  'tags': {'major_brand': 'mp42',\n",
       "   'minor_version': '0',\n",
       "   'compatible_brands': 'mp42mp41',\n",
       "   'creation_time': '2021-08-02T19:15:48.000000Z'}}}"
      ]
     },
     "execution_count": 25,
     "metadata": {},
     "output_type": "execute_result"
    }
   ],
   "source": [
    "result"
   ]
  },
  {
   "cell_type": "code",
   "execution_count": null,
   "id": "b3169574",
   "metadata": {},
   "outputs": [],
   "source": []
  }
 ],
 "metadata": {
  "kernelspec": {
   "display_name": "Python [conda env:UOL_sp_final_ex2] *",
   "language": "python",
   "name": "conda-env-UOL_sp_final_ex2-py"
  },
  "language_info": {
   "codemirror_mode": {
    "name": "ipython",
    "version": 3
   },
   "file_extension": ".py",
   "mimetype": "text/x-python",
   "name": "python",
   "nbconvert_exporter": "python",
   "pygments_lexer": "ipython3",
   "version": "3.7.16"
  }
 },
 "nbformat": 4,
 "nbformat_minor": 5
}
